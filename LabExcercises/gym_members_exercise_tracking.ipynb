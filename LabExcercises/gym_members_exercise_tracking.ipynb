{
 "cells": [
  {
   "cell_type": "markdown",
   "metadata": {
    "id": "rODb9vHvIEbp"
   },
   "source": [
    "# Requirements"
   ]
  },
  {
   "cell_type": "code",
   "execution_count": 8,
   "metadata": {
    "id": "U4KmHBd2cdx9"
   },
   "outputs": [],
   "source": [
    "import pandas as pd\n",
    "import numpy as np\n",
    "import matplotlib.pyplot as plt\n",
    "import seaborn as sns\n",
    "import missingno as msno\n",
    "from sklearn.impute import SimpleImputer, KNNImputer\n",
    "from sklearn.preprocessing import MinMaxScaler, LabelEncoder\n",
    "import missingno as msno\n",
    "import matplotlib.pyplot as plt"
   ]
  },
  {
   "cell_type": "markdown",
   "metadata": {
    "id": "KNMMoUiUIW3L"
   },
   "source": [
    "# Laboratory Exercise - Run Mode (8 points)"
   ]
  },
  {
   "cell_type": "markdown",
   "metadata": {
    "id": "zBYI-EypaWom"
   },
   "source": [
    "## The Gym Dataset\n",
    "The dataset contains detailed information on 973 gym members' workout sessions, including their exercise routines, physical attributes, and fitness metrics. The features include age, gender, weight, height, heart rate data (maxiumum BPM, average BPM, and resting BPM), session duration, calories burned, workout type, body fat percentage, water intake, workout frequency, and experience level. Each feature provides insights into different aspects of a gym member's workout habits, physical health, and overall fitness progression. These attributes, except for the 'burned calories', can be used as input variables for analysis and modeling. The 'burned calories' attribute serves as the target variable, representing the total calories burned during each workout session. This dataset offers a comprehensive set of features, making it ideal for exploring and understanding the factors that influence calorie burn during workouts."
   ]
  },
  {
   "cell_type": "markdown",
   "metadata": {
    "id": "DCm1qm1mZwMr"
   },
   "source": [
    "Load the dataset into a `pandas` data frame."
   ]
  },
  {
   "cell_type": "code",
   "execution_count": 3,
   "metadata": {
    "id": "KMOn4fgcZn8s"
   },
   "outputs": [],
   "source": [
    "df = pd.read_csv('gym_members_exercise_tracking.csv')"
   ]
  },
  {
   "cell_type": "markdown",
   "metadata": {
    "id": "7yVjyyL-SENC"
   },
   "source": [
    "Preprocess the input and the output variables appropriately."
   ]
  },
  {
   "cell_type": "code",
   "execution_count": 4,
   "metadata": {
    "id": "VFMBXEUkSD5V"
   },
   "outputs": [
    {
     "data": {
      "text/html": [
       "<div>\n",
       "<style scoped>\n",
       "    .dataframe tbody tr th:only-of-type {\n",
       "        vertical-align: middle;\n",
       "    }\n",
       "\n",
       "    .dataframe tbody tr th {\n",
       "        vertical-align: top;\n",
       "    }\n",
       "\n",
       "    .dataframe thead th {\n",
       "        text-align: right;\n",
       "    }\n",
       "</style>\n",
       "<table border=\"1\" class=\"dataframe\">\n",
       "  <thead>\n",
       "    <tr style=\"text-align: right;\">\n",
       "      <th></th>\n",
       "      <th>Age</th>\n",
       "      <th>Gender</th>\n",
       "      <th>Weight (kg)</th>\n",
       "      <th>Height (m)</th>\n",
       "      <th>Max_BPM</th>\n",
       "      <th>Avg_BPM</th>\n",
       "      <th>Resting_BPM</th>\n",
       "      <th>Session_Duration (hours)</th>\n",
       "      <th>Calories_Burned</th>\n",
       "      <th>Workout_Type</th>\n",
       "      <th>Fat_Percentage</th>\n",
       "      <th>Water_Intake (liters)</th>\n",
       "      <th>Workout_Frequency (days/week)</th>\n",
       "      <th>Experience_Level</th>\n",
       "      <th>BMI</th>\n",
       "    </tr>\n",
       "  </thead>\n",
       "  <tbody>\n",
       "    <tr>\n",
       "      <th>0</th>\n",
       "      <td>56</td>\n",
       "      <td>Male</td>\n",
       "      <td>88.3</td>\n",
       "      <td>1.71</td>\n",
       "      <td>180</td>\n",
       "      <td>157</td>\n",
       "      <td>60</td>\n",
       "      <td>1.69</td>\n",
       "      <td>1313.0</td>\n",
       "      <td>Yoga</td>\n",
       "      <td>12.6</td>\n",
       "      <td>3.5</td>\n",
       "      <td>4</td>\n",
       "      <td>3</td>\n",
       "      <td>30.20</td>\n",
       "    </tr>\n",
       "    <tr>\n",
       "      <th>1</th>\n",
       "      <td>46</td>\n",
       "      <td>Female</td>\n",
       "      <td>74.9</td>\n",
       "      <td>1.53</td>\n",
       "      <td>179</td>\n",
       "      <td>151</td>\n",
       "      <td>66</td>\n",
       "      <td>1.30</td>\n",
       "      <td>883.0</td>\n",
       "      <td>HIIT</td>\n",
       "      <td>33.9</td>\n",
       "      <td>2.1</td>\n",
       "      <td>4</td>\n",
       "      <td>2</td>\n",
       "      <td>32.00</td>\n",
       "    </tr>\n",
       "    <tr>\n",
       "      <th>2</th>\n",
       "      <td>32</td>\n",
       "      <td>Female</td>\n",
       "      <td>68.1</td>\n",
       "      <td>1.66</td>\n",
       "      <td>167</td>\n",
       "      <td>122</td>\n",
       "      <td>54</td>\n",
       "      <td>1.11</td>\n",
       "      <td>677.0</td>\n",
       "      <td>Cardio</td>\n",
       "      <td>33.4</td>\n",
       "      <td>2.3</td>\n",
       "      <td>4</td>\n",
       "      <td>2</td>\n",
       "      <td>24.71</td>\n",
       "    </tr>\n",
       "    <tr>\n",
       "      <th>3</th>\n",
       "      <td>25</td>\n",
       "      <td>Male</td>\n",
       "      <td>53.2</td>\n",
       "      <td>1.70</td>\n",
       "      <td>190</td>\n",
       "      <td>164</td>\n",
       "      <td>56</td>\n",
       "      <td>0.59</td>\n",
       "      <td>532.0</td>\n",
       "      <td>Strength</td>\n",
       "      <td>28.8</td>\n",
       "      <td>2.1</td>\n",
       "      <td>3</td>\n",
       "      <td>1</td>\n",
       "      <td>18.41</td>\n",
       "    </tr>\n",
       "    <tr>\n",
       "      <th>4</th>\n",
       "      <td>38</td>\n",
       "      <td>Male</td>\n",
       "      <td>46.1</td>\n",
       "      <td>1.79</td>\n",
       "      <td>188</td>\n",
       "      <td>158</td>\n",
       "      <td>68</td>\n",
       "      <td>0.64</td>\n",
       "      <td>556.0</td>\n",
       "      <td>Strength</td>\n",
       "      <td>29.2</td>\n",
       "      <td>2.8</td>\n",
       "      <td>3</td>\n",
       "      <td>1</td>\n",
       "      <td>14.39</td>\n",
       "    </tr>\n",
       "  </tbody>\n",
       "</table>\n",
       "</div>"
      ],
      "text/plain": [
       "   Age  Gender  Weight (kg)  Height (m)  Max_BPM  Avg_BPM  Resting_BPM  \\\n",
       "0   56    Male         88.3        1.71      180      157           60   \n",
       "1   46  Female         74.9        1.53      179      151           66   \n",
       "2   32  Female         68.1        1.66      167      122           54   \n",
       "3   25    Male         53.2        1.70      190      164           56   \n",
       "4   38    Male         46.1        1.79      188      158           68   \n",
       "\n",
       "   Session_Duration (hours)  Calories_Burned Workout_Type  Fat_Percentage  \\\n",
       "0                      1.69           1313.0         Yoga            12.6   \n",
       "1                      1.30            883.0         HIIT            33.9   \n",
       "2                      1.11            677.0       Cardio            33.4   \n",
       "3                      0.59            532.0     Strength            28.8   \n",
       "4                      0.64            556.0     Strength            29.2   \n",
       "\n",
       "   Water_Intake (liters)  Workout_Frequency (days/week)  Experience_Level  \\\n",
       "0                    3.5                              4                 3   \n",
       "1                    2.1                              4                 2   \n",
       "2                    2.3                              4                 2   \n",
       "3                    2.1                              3                 1   \n",
       "4                    2.8                              3                 1   \n",
       "\n",
       "     BMI  \n",
       "0  30.20  \n",
       "1  32.00  \n",
       "2  24.71  \n",
       "3  18.41  \n",
       "4  14.39  "
      ]
     },
     "execution_count": 4,
     "metadata": {},
     "output_type": "execute_result"
    }
   ],
   "source": [
    "df.head()"
   ]
  },
  {
   "cell_type": "code",
   "execution_count": 5,
   "metadata": {},
   "outputs": [
    {
     "name": "stdout",
     "output_type": "stream",
     "text": [
      "<class 'pandas.core.frame.DataFrame'>\n",
      "RangeIndex: 973 entries, 0 to 972\n",
      "Data columns (total 15 columns):\n",
      " #   Column                         Non-Null Count  Dtype  \n",
      "---  ------                         --------------  -----  \n",
      " 0   Age                            973 non-null    int64  \n",
      " 1   Gender                         973 non-null    object \n",
      " 2   Weight (kg)                    973 non-null    float64\n",
      " 3   Height (m)                     973 non-null    float64\n",
      " 4   Max_BPM                        973 non-null    int64  \n",
      " 5   Avg_BPM                        973 non-null    int64  \n",
      " 6   Resting_BPM                    973 non-null    int64  \n",
      " 7   Session_Duration (hours)       973 non-null    float64\n",
      " 8   Calories_Burned                973 non-null    float64\n",
      " 9   Workout_Type                   973 non-null    object \n",
      " 10  Fat_Percentage                 973 non-null    float64\n",
      " 11  Water_Intake (liters)          973 non-null    float64\n",
      " 12  Workout_Frequency (days/week)  973 non-null    int64  \n",
      " 13  Experience_Level               973 non-null    int64  \n",
      " 14  BMI                            973 non-null    float64\n",
      "dtypes: float64(7), int64(6), object(2)\n",
      "memory usage: 114.1+ KB\n"
     ]
    }
   ],
   "source": [
    "df.info()"
   ]
  },
  {
   "cell_type": "code",
   "execution_count": 6,
   "metadata": {},
   "outputs": [
    {
     "data": {
      "text/plain": [
       "Age                              0\n",
       "Gender                           0\n",
       "Weight (kg)                      0\n",
       "Height (m)                       0\n",
       "Max_BPM                          0\n",
       "Avg_BPM                          0\n",
       "Resting_BPM                      0\n",
       "Session_Duration (hours)         0\n",
       "Calories_Burned                  0\n",
       "Workout_Type                     0\n",
       "Fat_Percentage                   0\n",
       "Water_Intake (liters)            0\n",
       "Workout_Frequency (days/week)    0\n",
       "Experience_Level                 0\n",
       "BMI                              0\n",
       "dtype: int64"
      ]
     },
     "execution_count": 6,
     "metadata": {},
     "output_type": "execute_result"
    }
   ],
   "source": [
    "df.isnull().sum()"
   ]
  },
  {
   "cell_type": "markdown",
   "metadata": {
    "id": "5slwyyhCKRo9"
   },
   "source": [
    "Explore the dataset using visualizations of your choice."
   ]
  },
  {
   "cell_type": "code",
   "execution_count": 21,
   "metadata": {
    "id": "DFY6TKhGKOY4"
   },
   "outputs": [
    {
     "data": {
      "image/png": "[encoded data removed]",
      "text/plain": [
       "<Figure size 640x480 with 1 Axes>"
      ]
     },
     "metadata": {},
     "output_type": "display_data"
    }
   ],
   "source": [
    "df['Workout_Type'].value_counts().plot.bar()\n",
    "plt.show()"
   ]
  },
  {
   "cell_type": "markdown",
   "metadata": {
    "id": "aHu0QDOtM-mK"
   },
   "source": [
    "Check if the dataset is balanced."
   ]
  },
  {
   "cell_type": "code",
   "execution_count": 23,
   "metadata": {
    "id": "y-gl5hyJM_vG"
   },
   "outputs": [
    {
     "data": {
      "image/png": "[encoded data removed]",
      "text/plain": [
       "<Figure size 1500x1000 with 16 Axes>"
      ]
     },
     "metadata": {},
     "output_type": "display_data"
    }
   ],
   "source": [
    "df.hist(bins=20, figsize=(15, 10), edgecolor='black')\n",
    "plt.suptitle(\"Distribution of Numerical Features\")\n",
    "plt.tight_layout()\n",
    "plt.show()"
   ]
  },
  {
   "cell_type": "code",
   "execution_count": 25,
   "metadata": {},
   "outputs": [
    {
     "name": "stdout",
     "output_type": "stream",
     "text": [
      "1025.0    6\n",
      "883.0     6\n",
      "875.0     5\n",
      "832.0     5\n",
      "711.0     4\n",
      "         ..\n",
      "1029.0    1\n",
      "1187.0    1\n",
      "482.0     1\n",
      "1096.0    1\n",
      "542.0     1\n",
      "Name: Calories_Burned, Length: 621, dtype: int64\n"
     ]
    }
   ],
   "source": [
    "target_column = 'Calories_Burned'\n",
    "class_distribution = df[target_column].value_counts()\n",
    "print(class_distribution)"
   ]
  },
  {
   "cell_type": "markdown",
   "metadata": {
    "id": "KwGjJs4rLi0P"
   },
   "source": [
    "## Detecting Missing Values\n",
    "Calculate the percentage of missing values present in each column of the dataset."
   ]
  },
  {
   "cell_type": "code",
   "execution_count": 26,
   "metadata": {
    "id": "L1l_JV-nL3ND"
   },
   "outputs": [
    {
     "data": {
      "text/plain": [
       "Age                              0\n",
       "Gender                           0\n",
       "Weight (kg)                      0\n",
       "Height (m)                       0\n",
       "Max_BPM                          0\n",
       "Avg_BPM                          0\n",
       "Resting_BPM                      0\n",
       "Session_Duration (hours)         0\n",
       "Calories_Burned                  0\n",
       "Workout_Type                     0\n",
       "Fat_Percentage                   0\n",
       "Water_Intake (liters)            0\n",
       "Workout_Frequency (days/week)    0\n",
       "Experience_Level                 0\n",
       "BMI                              0\n",
       "dtype: int64"
      ]
     },
     "execution_count": 26,
     "metadata": {},
     "output_type": "execute_result"
    }
   ],
   "source": [
    "df.isnull().sum()"
   ]
  },
  {
   "cell_type": "markdown",
   "metadata": {
    "id": "_5n7SWKfL46j"
   },
   "source": [
    "## Understanding the Causes Behind Missing Values\n",
    "Using visualization tools such as heatmaps, and dendrograms, illustrate the interdependence between attributes with missing values. Also, visualize the distribution of the missing values within the dataset using matrices and bar charts."
   ]
  },
  {
   "cell_type": "code",
   "execution_count": 33,
   "metadata": {
    "id": "Wa7uzbI5L4kL"
   },
   "outputs": [
    {
     "name": "stdout",
     "output_type": "stream",
     "text": [
      "<class 'pandas.core.frame.DataFrame'>\n",
      "RangeIndex: 973 entries, 0 to 972\n",
      "Data columns (total 15 columns):\n",
      " #   Column                         Non-Null Count  Dtype  \n",
      "---  ------                         --------------  -----  \n",
      " 0   Age                            973 non-null    int64  \n",
      " 1   Gender                         973 non-null    int32  \n",
      " 2   Weight (kg)                    973 non-null    float64\n",
      " 3   Height (m)                     973 non-null    float64\n",
      " 4   Max_BPM                        973 non-null    int64  \n",
      " 5   Avg_BPM                        973 non-null    int64  \n",
      " 6   Resting_BPM                    973 non-null    int64  \n",
      " 7   Session_Duration (hours)       973 non-null    float64\n",
      " 8   Calories_Burned                973 non-null    float64\n",
      " 9   Workout_Type                   973 non-null    int32  \n",
      " 10  Fat_Percentage                 973 non-null    float64\n",
      " 11  Water_Intake (liters)          973 non-null    float64\n",
      " 12  Workout_Frequency (days/week)  973 non-null    int64  \n",
      " 13  Experience_Level               973 non-null    int64  \n",
      " 14  BMI                            973 non-null    float64\n",
      "dtypes: float64(7), int32(2), int64(6)\n",
      "memory usage: 106.5 KB\n"
     ]
    }
   ],
   "source": [
    "df.info()"
   ]
  },
  {
   "cell_type": "markdown",
   "metadata": {
    "id": "99Gjo6KhMKqt"
   },
   "source": [
    "## Handling the Missing Values\n",
    "Handle the missing values using suitable method based on the insights obtained from the various visualizations."
   ]
  },
  {
   "cell_type": "code",
   "execution_count": 30,
   "metadata": {
    "id": "urmTiMn2MKgV"
   },
   "outputs": [],
   "source": [
    "encoder = LabelEncoder()\n",
    "encoded_values = encoder.fit_transform(df['Gender'])\n",
    "df['Gender'] = encoded_values"
   ]
  },
  {
   "cell_type": "code",
   "execution_count": 32,
   "metadata": {},
   "outputs": [],
   "source": [
    "encoder = LabelEncoder()\n",
    "encoded_values = encoder.fit_transform(df['Workout_Type'])\n",
    "df['Workout_Type'] = encoded_values"
   ]
  },
  {
   "cell_type": "markdown",
   "metadata": {
    "id": "tls69_PrbJKW"
   },
   "source": [
    "## Dataset Splitting\n",
    "Partition the dataset into training and testing sets with an 80:20 ratio."
   ]
  },
  {
   "cell_type": "code",
   "execution_count": 40,
   "metadata": {
    "id": "PjGGGMxebeoB"
   },
   "outputs": [],
   "source": [
    "from sklearn.model_selection import train_test_split\n",
    "X = df.drop(columns=['Calories_Burned'])  \n",
    "y = df['Calories_Burned']  \n",
    "\n",
    "X_train, X_test, Y_train, Y_test = train_test_split(X,  y, test_size=0.2)"
   ]
  },
  {
   "cell_type": "markdown",
   "metadata": {
    "id": "qhiEJI_xJ0Bt"
   },
   "source": [
    "## Feature Scaling\n",
    "Standardize the features appropriately."
   ]
  },
  {
   "cell_type": "code",
   "execution_count": 42,
   "metadata": {
    "id": "nwQFchgSKK8p"
   },
   "outputs": [
    {
     "data": {
      "text/html": [
       "<div>\n",
       "<style scoped>\n",
       "    .dataframe tbody tr th:only-of-type {\n",
       "        vertical-align: middle;\n",
       "    }\n",
       "\n",
       "    .dataframe tbody tr th {\n",
       "        vertical-align: top;\n",
       "    }\n",
       "\n",
       "    .dataframe thead th {\n",
       "        text-align: right;\n",
       "    }\n",
       "</style>\n",
       "<table border=\"1\" class=\"dataframe\">\n",
       "  <thead>\n",
       "    <tr style=\"text-align: right;\">\n",
       "      <th></th>\n",
       "      <th>Age</th>\n",
       "      <th>Gender</th>\n",
       "      <th>Weight (kg)</th>\n",
       "      <th>Height (m)</th>\n",
       "      <th>Max_BPM</th>\n",
       "      <th>Avg_BPM</th>\n",
       "      <th>Resting_BPM</th>\n",
       "      <th>Session_Duration (hours)</th>\n",
       "      <th>Workout_Type</th>\n",
       "      <th>Fat_Percentage</th>\n",
       "      <th>Water_Intake (liters)</th>\n",
       "      <th>Workout_Frequency (days/week)</th>\n",
       "      <th>Experience_Level</th>\n",
       "      <th>BMI</th>\n",
       "    </tr>\n",
       "  </thead>\n",
       "  <tbody>\n",
       "    <tr>\n",
       "      <th>595</th>\n",
       "      <td>49</td>\n",
       "      <td>1</td>\n",
       "      <td>88.6</td>\n",
       "      <td>2.00</td>\n",
       "      <td>162</td>\n",
       "      <td>127</td>\n",
       "      <td>56</td>\n",
       "      <td>1.83</td>\n",
       "      <td>0</td>\n",
       "      <td>14.9</td>\n",
       "      <td>3.5</td>\n",
       "      <td>4</td>\n",
       "      <td>3</td>\n",
       "      <td>22.15</td>\n",
       "    </tr>\n",
       "    <tr>\n",
       "      <th>730</th>\n",
       "      <td>34</td>\n",
       "      <td>0</td>\n",
       "      <td>46.9</td>\n",
       "      <td>1.61</td>\n",
       "      <td>196</td>\n",
       "      <td>161</td>\n",
       "      <td>69</td>\n",
       "      <td>1.02</td>\n",
       "      <td>2</td>\n",
       "      <td>28.6</td>\n",
       "      <td>1.7</td>\n",
       "      <td>3</td>\n",
       "      <td>2</td>\n",
       "      <td>18.09</td>\n",
       "    </tr>\n",
       "    <tr>\n",
       "      <th>910</th>\n",
       "      <td>32</td>\n",
       "      <td>1</td>\n",
       "      <td>89.8</td>\n",
       "      <td>1.92</td>\n",
       "      <td>199</td>\n",
       "      <td>168</td>\n",
       "      <td>67</td>\n",
       "      <td>1.93</td>\n",
       "      <td>2</td>\n",
       "      <td>10.6</td>\n",
       "      <td>3.5</td>\n",
       "      <td>4</td>\n",
       "      <td>3</td>\n",
       "      <td>24.36</td>\n",
       "    </tr>\n",
       "    <tr>\n",
       "      <th>325</th>\n",
       "      <td>59</td>\n",
       "      <td>0</td>\n",
       "      <td>60.7</td>\n",
       "      <td>1.73</td>\n",
       "      <td>185</td>\n",
       "      <td>154</td>\n",
       "      <td>55</td>\n",
       "      <td>1.03</td>\n",
       "      <td>3</td>\n",
       "      <td>33.8</td>\n",
       "      <td>2.5</td>\n",
       "      <td>3</td>\n",
       "      <td>2</td>\n",
       "      <td>20.28</td>\n",
       "    </tr>\n",
       "    <tr>\n",
       "      <th>243</th>\n",
       "      <td>29</td>\n",
       "      <td>1</td>\n",
       "      <td>55.7</td>\n",
       "      <td>1.61</td>\n",
       "      <td>177</td>\n",
       "      <td>128</td>\n",
       "      <td>51</td>\n",
       "      <td>1.41</td>\n",
       "      <td>2</td>\n",
       "      <td>28.7</td>\n",
       "      <td>2.3</td>\n",
       "      <td>3</td>\n",
       "      <td>1</td>\n",
       "      <td>21.49</td>\n",
       "    </tr>\n",
       "    <tr>\n",
       "      <th>...</th>\n",
       "      <td>...</td>\n",
       "      <td>...</td>\n",
       "      <td>...</td>\n",
       "      <td>...</td>\n",
       "      <td>...</td>\n",
       "      <td>...</td>\n",
       "      <td>...</td>\n",
       "      <td>...</td>\n",
       "      <td>...</td>\n",
       "      <td>...</td>\n",
       "      <td>...</td>\n",
       "      <td>...</td>\n",
       "      <td>...</td>\n",
       "      <td>...</td>\n",
       "    </tr>\n",
       "    <tr>\n",
       "      <th>35</th>\n",
       "      <td>26</td>\n",
       "      <td>1</td>\n",
       "      <td>127.6</td>\n",
       "      <td>1.73</td>\n",
       "      <td>167</td>\n",
       "      <td>160</td>\n",
       "      <td>62</td>\n",
       "      <td>1.32</td>\n",
       "      <td>2</td>\n",
       "      <td>27.3</td>\n",
       "      <td>2.9</td>\n",
       "      <td>3</td>\n",
       "      <td>1</td>\n",
       "      <td>42.63</td>\n",
       "    </tr>\n",
       "    <tr>\n",
       "      <th>408</th>\n",
       "      <td>46</td>\n",
       "      <td>1</td>\n",
       "      <td>108.8</td>\n",
       "      <td>1.64</td>\n",
       "      <td>185</td>\n",
       "      <td>169</td>\n",
       "      <td>63</td>\n",
       "      <td>1.40</td>\n",
       "      <td>2</td>\n",
       "      <td>20.5</td>\n",
       "      <td>3.4</td>\n",
       "      <td>3</td>\n",
       "      <td>1</td>\n",
       "      <td>40.45</td>\n",
       "    </tr>\n",
       "    <tr>\n",
       "      <th>426</th>\n",
       "      <td>56</td>\n",
       "      <td>1</td>\n",
       "      <td>82.5</td>\n",
       "      <td>1.87</td>\n",
       "      <td>187</td>\n",
       "      <td>124</td>\n",
       "      <td>74</td>\n",
       "      <td>1.51</td>\n",
       "      <td>3</td>\n",
       "      <td>13.2</td>\n",
       "      <td>3.5</td>\n",
       "      <td>5</td>\n",
       "      <td>3</td>\n",
       "      <td>23.59</td>\n",
       "    </tr>\n",
       "    <tr>\n",
       "      <th>968</th>\n",
       "      <td>24</td>\n",
       "      <td>1</td>\n",
       "      <td>87.1</td>\n",
       "      <td>1.74</td>\n",
       "      <td>187</td>\n",
       "      <td>158</td>\n",
       "      <td>67</td>\n",
       "      <td>1.57</td>\n",
       "      <td>2</td>\n",
       "      <td>10.0</td>\n",
       "      <td>3.5</td>\n",
       "      <td>4</td>\n",
       "      <td>3</td>\n",
       "      <td>28.77</td>\n",
       "    </tr>\n",
       "    <tr>\n",
       "      <th>279</th>\n",
       "      <td>38</td>\n",
       "      <td>1</td>\n",
       "      <td>91.5</td>\n",
       "      <td>1.77</td>\n",
       "      <td>178</td>\n",
       "      <td>140</td>\n",
       "      <td>74</td>\n",
       "      <td>0.80</td>\n",
       "      <td>3</td>\n",
       "      <td>26.7</td>\n",
       "      <td>3.4</td>\n",
       "      <td>2</td>\n",
       "      <td>1</td>\n",
       "      <td>29.21</td>\n",
       "    </tr>\n",
       "  </tbody>\n",
       "</table>\n",
       "<p>778 rows × 14 columns</p>\n",
       "</div>"
      ],
      "text/plain": [
       "     Age  Gender  Weight (kg)  Height (m)  Max_BPM  Avg_BPM  Resting_BPM  \\\n",
       "595   49       1         88.6        2.00      162      127           56   \n",
       "730   34       0         46.9        1.61      196      161           69   \n",
       "910   32       1         89.8        1.92      199      168           67   \n",
       "325   59       0         60.7        1.73      185      154           55   \n",
       "243   29       1         55.7        1.61      177      128           51   \n",
       "..   ...     ...          ...         ...      ...      ...          ...   \n",
       "35    26       1        127.6        1.73      167      160           62   \n",
       "408   46       1        108.8        1.64      185      169           63   \n",
       "426   56       1         82.5        1.87      187      124           74   \n",
       "968   24       1         87.1        1.74      187      158           67   \n",
       "279   38       1         91.5        1.77      178      140           74   \n",
       "\n",
       "     Session_Duration (hours)  Workout_Type  Fat_Percentage  \\\n",
       "595                      1.83             0            14.9   \n",
       "730                      1.02             2            28.6   \n",
       "910                      1.93             2            10.6   \n",
       "325                      1.03             3            33.8   \n",
       "243                      1.41             2            28.7   \n",
       "..                        ...           ...             ...   \n",
       "35                       1.32             2            27.3   \n",
       "408                      1.40             2            20.5   \n",
       "426                      1.51             3            13.2   \n",
       "968                      1.57             2            10.0   \n",
       "279                      0.80             3            26.7   \n",
       "\n",
       "     Water_Intake (liters)  Workout_Frequency (days/week)  Experience_Level  \\\n",
       "595                    3.5                              4                 3   \n",
       "730                    1.7                              3                 2   \n",
       "910                    3.5                              4                 3   \n",
       "325                    2.5                              3                 2   \n",
       "243                    2.3                              3                 1   \n",
       "..                     ...                            ...               ...   \n",
       "35                     2.9                              3                 1   \n",
       "408                    3.4                              3                 1   \n",
       "426                    3.5                              5                 3   \n",
       "968                    3.5                              4                 3   \n",
       "279                    3.4                              2                 1   \n",
       "\n",
       "       BMI  \n",
       "595  22.15  \n",
       "730  18.09  \n",
       "910  24.36  \n",
       "325  20.28  \n",
       "243  21.49  \n",
       "..     ...  \n",
       "35   42.63  \n",
       "408  40.45  \n",
       "426  23.59  \n",
       "968  28.77  \n",
       "279  29.21  \n",
       "\n",
       "[778 rows x 14 columns]"
      ]
     },
     "execution_count": 42,
     "metadata": {},
     "output_type": "execute_result"
    }
   ],
   "source": [
    "X_train"
   ]
  },
  {
   "cell_type": "code",
   "execution_count": 43,
   "metadata": {},
   "outputs": [],
   "source": [
    "from sklearn.preprocessing import StandardScaler\n",
    "scaler = StandardScaler()\n",
    "scaler.fit(X_train)\n",
    "\n",
    "X_train = scaler.transform(X_train)\n",
    "X_test = scaler.transform(X_test)"
   ]
  },
  {
   "cell_type": "markdown",
   "metadata": {
    "id": "VIkAR1Hibiwr"
   },
   "source": [
    "## Model Selection"
   ]
  },
  {
   "cell_type": "markdown",
   "metadata": {
    "id": "qWn1pafKbnxH"
   },
   "source": [
    "Choose and train an approriate model for the given task."
   ]
  },
  {
   "cell_type": "code",
   "execution_count": 44,
   "metadata": {
    "id": "IXFIrQthbnkb"
   },
   "outputs": [
    {
     "data": {
      "text/html": [
       "<style>#sk-container-id-1 {color: black;background-color: white;}#sk-container-id-1 pre{padding: 0;}#sk-container-id-1 div.sk-toggleable {background-color: white;}#sk-container-id-1 label.sk-toggleable__label {cursor: pointer;display: block;width: 100%;margin-bottom: 0;padding: 0.3em;box-sizing: border-box;text-align: center;}#sk-container-id-1 label.sk-toggleable__label-arrow:before {content: \"▸\";float: left;margin-right: 0.25em;color: #696969;}#sk-container-id-1 label.sk-toggleable__label-arrow:hover:before {color: black;}#sk-container-id-1 div.sk-estimator:hover label.sk-toggleable__label-arrow:before {color: black;}#sk-container-id-1 div.sk-toggleable__content {max-height: 0;max-width: 0;overflow: hidden;text-align: left;background-color: #f0f8ff;}#sk-container-id-1 div.sk-toggleable__content pre {margin: 0.2em;color: black;border-radius: 0.25em;background-color: #f0f8ff;}#sk-container-id-1 input.sk-toggleable__control:checked~div.sk-toggleable__content {max-height: 200px;max-width: 100%;overflow: auto;}#sk-container-id-1 input.sk-toggleable__control:checked~label.sk-toggleable__label-arrow:before {content: \"▾\";}#sk-container-id-1 div.sk-estimator input.sk-toggleable__control:checked~label.sk-toggleable__label {background-color: #d4ebff;}#sk-container-id-1 div.sk-label input.sk-toggleable__control:checked~label.sk-toggleable__label {background-color: #d4ebff;}#sk-container-id-1 input.sk-hidden--visually {border: 0;clip: rect(1px 1px 1px 1px);clip: rect(1px, 1px, 1px, 1px);height: 1px;margin: -1px;overflow: hidden;padding: 0;position: absolute;width: 1px;}#sk-container-id-1 div.sk-estimator {font-family: monospace;background-color: #f0f8ff;border: 1px dotted black;border-radius: 0.25em;box-sizing: border-box;margin-bottom: 0.5em;}#sk-container-id-1 div.sk-estimator:hover {background-color: #d4ebff;}#sk-container-id-1 div.sk-parallel-item::after {content: \"\";width: 100%;border-bottom: 1px solid gray;flex-grow: 1;}#sk-container-id-1 div.sk-label:hover label.sk-toggleable__label {background-color: #d4ebff;}#sk-container-id-1 div.sk-serial::before {content: \"\";position: absolute;border-left: 1px solid gray;box-sizing: border-box;top: 0;bottom: 0;left: 50%;z-index: 0;}#sk-container-id-1 div.sk-serial {display: flex;flex-direction: column;align-items: center;background-color: white;padding-right: 0.2em;padding-left: 0.2em;position: relative;}#sk-container-id-1 div.sk-item {position: relative;z-index: 1;}#sk-container-id-1 div.sk-parallel {display: flex;align-items: stretch;justify-content: center;background-color: white;position: relative;}#sk-container-id-1 div.sk-item::before, #sk-container-id-1 div.sk-parallel-item::before {content: \"\";position: absolute;border-left: 1px solid gray;box-sizing: border-box;top: 0;bottom: 0;left: 50%;z-index: -1;}#sk-container-id-1 div.sk-parallel-item {display: flex;flex-direction: column;z-index: 1;position: relative;background-color: white;}#sk-container-id-1 div.sk-parallel-item:first-child::after {align-self: flex-end;width: 50%;}#sk-container-id-1 div.sk-parallel-item:last-child::after {align-self: flex-start;width: 50%;}#sk-container-id-1 div.sk-parallel-item:only-child::after {width: 0;}#sk-container-id-1 div.sk-dashed-wrapped {border: 1px dashed gray;margin: 0 0.4em 0.5em 0.4em;box-sizing: border-box;padding-bottom: 0.4em;background-color: white;}#sk-container-id-1 div.sk-label label {font-family: monospace;font-weight: bold;display: inline-block;line-height: 1.2em;}#sk-container-id-1 div.sk-label-container {text-align: center;}#sk-container-id-1 div.sk-container {/* jupyter's `normalize.less` sets `[hidden] { display: none; }` but bootstrap.min.css set `[hidden] { display: none !important; }` so we also need the `!important` here to be able to override the default hidden behavior on the sphinx rendered scikit-learn.org. See: https://github.com/scikit-learn/scikit-learn/issues/21755 */display: inline-block !important;position: relative;}#sk-container-id-1 div.sk-text-repr-fallback {display: none;}</style><div id=\"sk-container-id-1\" class=\"sk-top-container\"><div class=\"sk-text-repr-fallback\"><pre>KNeighborsClassifier()</pre><b>In a Jupyter environment, please rerun this cell to show the HTML representation or trust the notebook. <br />On GitHub, the HTML representation is unable to render, please try loading this page with nbviewer.org.</b></div><div class=\"sk-container\" hidden><div class=\"sk-item\"><div class=\"sk-estimator sk-toggleable\"><input class=\"sk-toggleable__control sk-hidden--visually\" id=\"sk-estimator-id-1\" type=\"checkbox\" checked><label for=\"sk-estimator-id-1\" class=\"sk-toggleable__label sk-toggleable__label-arrow\">KNeighborsClassifier</label><div class=\"sk-toggleable__content\"><pre>KNeighborsClassifier()</pre></div></div></div></div></div>"
      ],
      "text/plain": [
       "KNeighborsClassifier()"
      ]
     },
     "execution_count": 44,
     "metadata": {},
     "output_type": "execute_result"
    }
   ],
   "source": [
    "from sklearn.neighbors import KNeighborsClassifier\n",
    "classifier = KNeighborsClassifier(n_neighbors=5)\n",
    "classifier.fit(X_train, Y_train)"
   ]
  },
  {
   "cell_type": "markdown",
   "metadata": {
    "id": "gyXZwAVab8Cp"
   },
   "source": [
    "Use the trained model to make predictions for the test set."
   ]
  },
  {
   "cell_type": "code",
   "execution_count": 45,
   "metadata": {
    "id": "EvMfVum6b_9b"
   },
   "outputs": [],
   "source": [
    "y_pred = classifier.predict(X_test)"
   ]
  },
  {
   "cell_type": "markdown",
   "metadata": {
    "id": "3VxAvDPtcNCh"
   },
   "source": [
    "Assess the performance of the model by using different classification metrics."
   ]
  },
  {
   "cell_type": "code",
   "execution_count": 46,
   "metadata": {
    "id": "V4axpktycQhp"
   },
   "outputs": [
    {
     "name": "stdout",
     "output_type": "stream",
     "text": [
      "[[0 0 0 ... 0 0 0]\n",
      " [0 0 0 ... 0 0 0]\n",
      " [0 0 0 ... 0 0 0]\n",
      " ...\n",
      " [0 0 0 ... 0 0 0]\n",
      " [0 0 0 ... 0 0 0]\n",
      " [0 0 0 ... 0 0 0]]\n",
      "              precision    recall  f1-score   support\n",
      "\n",
      "       303.0       0.00      0.00      0.00         0\n",
      "       319.0       0.00      0.00      0.00         0\n",
      "       333.0       0.00      0.00      0.00         0\n",
      "       353.0       0.00      0.00      0.00         0\n",
      "       354.0       0.00      0.00      0.00         0\n",
      "       370.0       0.00      0.00      0.00         1\n",
      "       380.0       0.00      0.00      0.00         0\n",
      "       386.0       0.00      0.00      0.00         0\n",
      "       388.0       0.00      0.00      0.00         0\n",
      "       393.0       0.00      0.00      0.00         0\n",
      "       407.0       0.00      0.00      0.00         0\n",
      "       408.0       0.00      0.00      0.00         0\n",
      "       410.0       0.00      0.00      0.00         1\n",
      "       412.0       0.00      0.00      0.00         1\n",
      "       415.0       0.00      0.00      0.00         0\n",
      "       416.0       0.00      0.00      0.00         0\n",
      "       421.0       0.00      0.00      0.00         1\n",
      "       422.0       0.00      0.00      0.00         1\n",
      "       423.0       0.00      0.00      0.00         0\n",
      "       436.0       0.00      0.00      0.00         1\n",
      "       440.0       0.00      0.00      0.00         1\n",
      "       442.0       0.00      0.00      0.00         1\n",
      "       446.0       0.00      0.00      0.00         1\n",
      "       448.0       0.00      0.00      0.00         0\n",
      "       453.0       0.00      0.00      0.00         0\n",
      "       463.0       0.00      0.00      0.00         1\n",
      "       468.0       0.00      0.00      0.00         0\n",
      "       479.0       0.00      0.00      0.00         1\n",
      "       484.0       0.00      0.00      0.00         1\n",
      "       492.0       0.00      0.00      0.00         0\n",
      "       494.0       0.00      0.00      0.00         0\n",
      "       502.0       0.00      0.00      0.00         0\n",
      "       506.0       1.00      1.00      1.00         1\n",
      "       514.0       0.00      0.00      0.00         0\n",
      "       530.0       0.00      0.00      0.00         0\n",
      "       542.0       0.00      0.00      0.00         0\n",
      "       545.0       0.00      0.00      0.00         0\n",
      "       555.0       0.00      0.00      0.00         0\n",
      "       557.0       0.00      0.00      0.00         0\n",
      "       558.0       0.00      0.00      0.00         1\n",
      "       559.0       0.00      0.00      0.00         1\n",
      "       566.0       0.00      0.00      0.00         0\n",
      "       569.0       0.00      0.00      0.00         0\n",
      "       574.0       0.00      0.00      0.00         0\n",
      "       580.0       0.00      0.00      0.00         0\n",
      "       585.0       0.00      0.00      0.00         0\n",
      "       592.0       0.00      0.00      0.00         1\n",
      "       593.0       0.00      0.00      0.00         2\n",
      "       594.0       0.00      0.00      0.00         1\n",
      "       598.0       0.00      0.00      0.00         1\n",
      "       603.0       0.00      0.00      0.00         0\n",
      "       608.0       0.00      0.00      0.00         1\n",
      "       612.0       0.00      0.00      0.00         1\n",
      "       615.0       0.00      0.00      0.00         0\n",
      "       626.0       0.00      0.00      0.00         0\n",
      "       632.0       0.00      0.00      0.00         0\n",
      "       634.0       0.00      0.00      0.00         1\n",
      "       636.0       0.00      0.00      0.00         1\n",
      "       639.0       0.00      0.00      0.00         2\n",
      "       642.0       0.00      0.00      0.00         0\n",
      "       643.0       0.00      0.00      0.00         0\n",
      "       645.0       0.00      0.00      0.00         0\n",
      "       651.0       0.00      0.00      0.00         1\n",
      "       654.0       0.00      0.00      0.00         1\n",
      "       656.0       0.00      0.00      0.00         1\n",
      "       659.0       0.00      0.00      0.00         0\n",
      "       660.0       0.00      0.00      0.00         0\n",
      "       661.0       0.00      0.00      0.00         1\n",
      "       663.0       0.00      0.00      0.00         0\n",
      "       667.0       0.00      0.00      0.00         1\n",
      "       672.0       0.00      0.00      0.00         1\n",
      "       677.0       0.00      0.00      0.00         0\n",
      "       678.0       0.00      0.00      0.00         1\n",
      "       679.0       0.00      0.00      0.00         1\n",
      "       680.0       0.00      0.00      0.00         1\n",
      "       681.0       0.00      0.00      0.00         0\n",
      "       684.0       0.00      0.00      0.00         1\n",
      "       685.0       0.00      0.00      0.00         0\n",
      "       686.0       0.00      0.00      0.00         1\n",
      "       688.0       0.00      0.00      0.00         1\n",
      "       694.0       0.00      0.00      0.00         0\n",
      "       695.0       0.00      0.00      0.00         1\n",
      "       698.0       0.00      0.00      0.00         0\n",
      "       699.0       0.00      0.00      0.00         2\n",
      "       700.0       0.00      0.00      0.00         0\n",
      "       705.0       0.00      0.00      0.00         0\n",
      "       710.0       0.00      0.00      0.00         0\n",
      "       711.0       0.00      0.00      0.00         0\n",
      "       713.0       0.00      0.00      0.00         0\n",
      "       714.0       0.00      0.00      0.00         1\n",
      "       715.0       0.00      0.00      0.00         1\n",
      "       718.0       0.00      0.00      0.00         1\n",
      "       719.0       0.00      0.00      0.00         0\n",
      "       720.0       0.00      0.00      0.00         0\n",
      "       721.0       0.00      0.00      0.00         0\n",
      "       722.0       0.00      0.00      0.00         0\n",
      "       723.0       0.00      0.00      0.00         1\n",
      "       729.0       0.00      0.00      0.00         1\n",
      "       730.0       0.00      0.00      0.00         1\n",
      "       732.0       0.00      0.00      0.00         0\n",
      "       734.0       0.00      0.00      0.00         1\n",
      "       736.0       0.00      0.00      0.00         0\n",
      "       737.0       0.00      0.00      0.00         1\n",
      "       739.0       0.00      0.00      0.00         1\n",
      "       740.0       0.00      0.00      0.00         1\n",
      "       741.0       0.00      0.00      0.00         1\n",
      "       742.0       0.00      0.00      0.00         1\n",
      "       743.0       0.00      0.00      0.00         1\n",
      "       744.0       0.00      0.00      0.00         0\n",
      "       747.0       0.00      0.00      0.00         0\n",
      "       753.0       0.00      0.00      0.00         2\n",
      "       757.0       0.00      0.00      0.00         0\n",
      "       759.0       0.00      0.00      0.00         2\n",
      "       767.0       0.00      0.00      0.00         1\n",
      "       777.0       0.00      0.00      0.00         1\n",
      "       778.0       0.00      0.00      0.00         0\n",
      "       779.0       0.00      0.00      0.00         0\n",
      "       790.0       0.00      0.00      0.00         0\n",
      "       792.0       0.00      0.00      0.00         1\n",
      "       794.0       0.00      0.00      0.00         1\n",
      "       795.0       0.00      0.00      0.00         1\n",
      "       796.0       0.00      0.00      0.00         1\n",
      "       800.0       0.00      0.00      0.00         1\n",
      "       802.0       0.00      0.00      0.00         1\n",
      "       803.0       0.00      0.00      0.00         1\n",
      "       805.0       0.00      0.00      0.00         1\n",
      "       806.0       0.00      0.00      0.00         0\n",
      "       807.0       0.00      0.00      0.00         2\n",
      "       808.0       0.00      0.00      0.00         1\n",
      "       813.0       0.00      0.00      0.00         1\n",
      "       817.0       0.00      0.00      0.00         1\n",
      "       818.0       0.00      0.00      0.00         0\n",
      "       822.0       0.00      0.00      0.00         0\n",
      "       826.0       0.00      0.00      0.00         0\n",
      "       830.0       0.00      0.00      0.00         1\n",
      "       831.0       0.00      0.00      0.00         0\n",
      "       832.0       0.00      0.00      0.00         1\n",
      "       836.0       0.00      0.00      0.00         1\n",
      "       838.0       0.00      0.00      0.00         1\n",
      "       840.0       0.00      0.00      0.00         1\n",
      "       842.0       0.00      0.00      0.00         1\n",
      "       844.0       0.00      0.00      0.00         0\n",
      "       847.0       0.00      0.00      0.00         1\n",
      "       851.0       0.00      0.00      0.00         0\n",
      "       858.0       0.00      0.00      0.00         0\n",
      "       859.0       0.00      0.00      0.00         1\n",
      "       862.0       0.00      0.00      0.00         1\n",
      "       864.0       0.00      0.00      0.00         1\n",
      "       870.0       0.00      0.00      0.00         1\n",
      "       875.0       0.00      0.00      0.00         1\n",
      "       876.0       0.00      0.00      0.00         0\n",
      "       881.0       0.00      0.00      0.00         1\n",
      "       882.0       0.00      0.00      0.00         2\n",
      "       883.0       0.00      0.00      0.00         1\n",
      "       884.0       0.00      0.00      0.00         1\n",
      "       885.0       0.00      0.00      0.00         1\n",
      "       886.0       0.00      0.00      0.00         1\n",
      "       888.0       0.00      0.00      0.00         0\n",
      "       895.0       0.00      0.00      0.00         1\n",
      "       907.0       0.00      0.00      0.00         1\n",
      "       910.0       0.00      0.00      0.00         1\n",
      "       911.0       0.00      0.00      0.00         1\n",
      "       913.0       0.00      0.00      0.00         1\n",
      "       916.0       0.00      0.00      0.00         1\n",
      "       919.0       0.00      0.00      0.00         0\n",
      "       920.0       0.00      0.00      0.00         1\n",
      "       921.0       0.00      0.00      0.00         0\n",
      "       922.0       0.00      0.00      0.00         1\n",
      "       923.0       0.00      0.00      0.00         1\n",
      "       924.0       0.00      0.00      0.00         1\n",
      "       925.0       0.00      0.00      0.00         2\n",
      "       926.0       0.00      0.00      0.00         2\n",
      "       927.0       0.00      0.00      0.00         1\n",
      "       929.0       0.00      0.00      0.00         2\n",
      "       933.0       0.00      0.00      0.00         0\n",
      "       937.0       0.00      0.00      0.00         2\n",
      "       938.0       0.00      0.00      0.00         1\n",
      "       939.0       0.00      0.00      0.00         0\n",
      "       942.0       0.00      0.00      0.00         1\n",
      "       943.0       0.00      0.00      0.00         1\n",
      "       946.0       0.00      0.00      0.00         1\n",
      "       948.0       0.00      0.00      0.00         0\n",
      "       949.0       0.00      0.00      0.00         1\n",
      "       950.0       0.00      0.00      0.00         1\n",
      "       954.0       0.00      0.00      0.00         1\n",
      "       957.0       0.00      0.00      0.00         0\n",
      "       958.0       0.00      0.00      0.00         1\n",
      "       962.0       0.00      0.00      0.00         1\n",
      "       963.0       0.00      0.00      0.00         1\n",
      "       964.0       0.00      0.00      0.00         0\n",
      "       965.0       0.00      0.00      0.00         1\n",
      "       966.0       0.00      0.00      0.00         1\n",
      "       967.0       0.00      0.00      0.00         0\n",
      "       972.0       0.00      0.00      0.00         1\n",
      "       978.0       0.00      0.00      0.00         1\n",
      "       979.0       0.00      0.00      0.00         1\n",
      "       980.0       0.00      0.00      0.00         1\n",
      "       983.0       0.00      0.00      0.00         1\n",
      "       985.0       0.00      0.00      0.00         1\n",
      "       996.0       0.00      0.00      0.00         1\n",
      "       999.0       0.00      0.00      0.00         0\n",
      "      1004.0       0.00      0.00      0.00         0\n",
      "      1006.0       0.00      0.00      0.00         0\n",
      "      1012.0       0.00      0.00      0.00         1\n",
      "      1015.0       0.00      0.00      0.00         1\n",
      "      1020.0       0.00      0.00      0.00         1\n",
      "      1024.0       0.00      0.00      0.00         1\n",
      "      1025.0       0.00      0.00      0.00         1\n",
      "      1042.0       0.00      0.00      0.00         0\n",
      "      1043.0       0.00      0.00      0.00         0\n",
      "      1046.0       0.00      0.00      0.00         3\n",
      "      1057.0       0.00      0.00      0.00         1\n",
      "      1060.0       0.00      0.00      0.00         2\n",
      "      1066.0       0.00      0.00      0.00         1\n",
      "      1074.0       0.00      0.00      0.00         1\n",
      "      1082.0       0.00      0.00      0.00         1\n",
      "      1084.0       0.00      0.00      0.00         1\n",
      "      1091.0       0.00      0.00      0.00         1\n",
      "      1092.0       0.00      0.00      0.00         1\n",
      "      1095.0       0.00      0.00      0.00         1\n",
      "      1096.0       0.00      0.00      0.00         1\n",
      "      1100.0       0.00      0.00      0.00         1\n",
      "      1102.0       0.00      0.00      0.00         0\n",
      "      1104.0       0.00      0.00      0.00         1\n",
      "      1107.0       0.00      0.00      0.00         0\n",
      "      1111.0       0.00      0.00      0.00         1\n",
      "      1113.0       0.00      0.00      0.00         0\n",
      "      1116.0       0.00      0.00      0.00         1\n",
      "      1123.0       0.00      0.00      0.00         1\n",
      "      1129.0       0.00      0.00      0.00         0\n",
      "      1133.0       0.00      0.00      0.00         1\n",
      "      1144.0       0.00      0.00      0.00         1\n",
      "      1150.0       0.00      0.00      0.00         0\n",
      "      1151.0       0.00      0.00      0.00         0\n",
      "      1155.0       0.00      0.00      0.00         1\n",
      "      1158.0       0.00      0.00      0.00         1\n",
      "      1159.0       0.00      0.00      0.00         1\n",
      "      1166.0       0.00      0.00      0.00         1\n",
      "      1173.0       0.00      0.00      0.00         1\n",
      "      1182.0       0.00      0.00      0.00         1\n",
      "      1185.0       0.00      0.00      0.00         1\n",
      "      1187.0       0.00      0.00      0.00         1\n",
      "      1195.0       0.00      0.00      0.00         1\n",
      "      1198.0       0.00      0.00      0.00         1\n",
      "      1201.0       0.00      0.00      0.00         1\n",
      "      1213.0       0.00      0.00      0.00         1\n",
      "      1216.0       0.00      0.00      0.00         1\n",
      "      1218.0       0.00      0.00      0.00         1\n",
      "      1220.0       0.00      0.00      0.00         1\n",
      "      1228.0       0.00      0.00      0.00         0\n",
      "      1231.0       0.00      0.00      0.00         0\n",
      "      1232.0       0.00      0.00      0.00         0\n",
      "      1241.0       0.00      0.00      0.00         0\n",
      "      1249.0       0.00      0.00      0.00         1\n",
      "      1257.0       0.00      0.00      0.00         1\n",
      "      1287.0       0.00      0.00      0.00         0\n",
      "      1294.0       0.00      0.00      0.00         1\n",
      "      1304.0       0.00      0.00      0.00         1\n",
      "      1313.0       0.00      0.00      0.00         0\n",
      "      1314.0       0.00      0.00      0.00         1\n",
      "      1315.0       0.00      0.00      0.00         1\n",
      "      1322.0       0.00      0.00      0.00         1\n",
      "      1336.0       0.00      0.00      0.00         1\n",
      "      1345.0       0.00      0.00      0.00         1\n",
      "      1355.0       0.00      0.00      0.00         1\n",
      "      1356.0       0.00      0.00      0.00         1\n",
      "      1357.0       0.00      0.00      0.00         1\n",
      "      1363.0       0.00      0.00      0.00         1\n",
      "      1373.0       0.00      0.00      0.00         1\n",
      "      1380.0       0.00      0.00      0.00         1\n",
      "      1396.0       0.00      0.00      0.00         1\n",
      "      1404.0       0.00      0.00      0.00         1\n",
      "      1410.0       0.00      0.00      0.00         1\n",
      "      1443.0       0.00      0.00      0.00         1\n",
      "      1467.0       0.00      0.00      0.00         1\n",
      "      1492.0       0.00      0.00      0.00         1\n",
      "      1515.0       0.00      0.00      0.00         1\n",
      "      1725.0       0.00      0.00      0.00         1\n",
      "      1766.0       0.00      0.00      0.00         1\n",
      "\n",
      "    accuracy                           0.01       195\n",
      "   macro avg       0.00      0.00      0.00       195\n",
      "weighted avg       0.01      0.01      0.01       195\n",
      "\n"
     ]
    },
    {
     "name": "stderr",
     "output_type": "stream",
     "text": [
      "C:\\Users\\Drej\\anaconda3\\lib\\site-packages\\sklearn\\metrics\\_classification.py:1344: UndefinedMetricWarning: Precision and F-score are ill-defined and being set to 0.0 in labels with no predicted samples. Use `zero_division` parameter to control this behavior.\n",
      "  _warn_prf(average, modifier, msg_start, len(result))\n",
      "C:\\Users\\Drej\\anaconda3\\lib\\site-packages\\sklearn\\metrics\\_classification.py:1344: UndefinedMetricWarning: Recall and F-score are ill-defined and being set to 0.0 in labels with no true samples. Use `zero_division` parameter to control this behavior.\n",
      "  _warn_prf(average, modifier, msg_start, len(result))\n",
      "C:\\Users\\Drej\\anaconda3\\lib\\site-packages\\sklearn\\metrics\\_classification.py:1344: UndefinedMetricWarning: Precision and F-score are ill-defined and being set to 0.0 in labels with no predicted samples. Use `zero_division` parameter to control this behavior.\n",
      "  _warn_prf(average, modifier, msg_start, len(result))\n",
      "C:\\Users\\Drej\\anaconda3\\lib\\site-packages\\sklearn\\metrics\\_classification.py:1344: UndefinedMetricWarning: Recall and F-score are ill-defined and being set to 0.0 in labels with no true samples. Use `zero_division` parameter to control this behavior.\n",
      "  _warn_prf(average, modifier, msg_start, len(result))\n",
      "C:\\Users\\Drej\\anaconda3\\lib\\site-packages\\sklearn\\metrics\\_classification.py:1344: UndefinedMetricWarning: Precision and F-score are ill-defined and being set to 0.0 in labels with no predicted samples. Use `zero_division` parameter to control this behavior.\n",
      "  _warn_prf(average, modifier, msg_start, len(result))\n",
      "C:\\Users\\Drej\\anaconda3\\lib\\site-packages\\sklearn\\metrics\\_classification.py:1344: UndefinedMetricWarning: Recall and F-score are ill-defined and being set to 0.0 in labels with no true samples. Use `zero_division` parameter to control this behavior.\n",
      "  _warn_prf(average, modifier, msg_start, len(result))\n"
     ]
    }
   ],
   "source": [
    "from sklearn.metrics import classification_report, confusion_matrix\n",
    "print(confusion_matrix(Y_test, y_pred))\n",
    "print(classification_report(Y_test, y_pred))"
   ]
  },
  {
   "cell_type": "markdown",
   "metadata": {
    "id": "RwnD_qSpIeXG"
   },
   "source": [
    "# Laboratory Exercise - Bonus Task (+ 2 points)"
   ]
  },
  {
   "cell_type": "markdown",
   "metadata": {
    "id": "lSTuVpyYd2is"
   },
   "source": [
    "As part of the bonus task in this laboratory assignment, your objective is to fine-tune at least one hyper-parameter using a cross-validation with grid search. This involves systematically experimenting with various values for the hyper-parameter(s) and evaluating the model's performance using cross-validation. Upon determining the most suitable value(s) for the hyper-parameter(s), evaluate the model's performance on a test set for final assessment.\n",
    "\n",
    "Hint: Use the `GridCVSearch` from the `scikit-learn` library. Check the documentation at https://scikit-learn.org/stable/modules/generated/sklearn.model_selection.GridSearchCV.html."
   ]
  },
  {
   "cell_type": "markdown",
   "metadata": {
    "id": "yZriA4d4eWLJ"
   },
   "source": [
    "## Dataset Splitting\n",
    "Partition the dataset into training and testing sets with an 90:10 ratio."
   ]
  },
  {
   "cell_type": "code",
   "execution_count": 48,
   "metadata": {
    "id": "ile-T3vmIfsm"
   },
   "outputs": [],
   "source": [
    "from sklearn.model_selection import train_test_split\n",
    "X = df.drop(columns=['Calories_Burned'])  \n",
    "y = df['Calories_Burned']  \n",
    "\n",
    "X_train, X_test, Y_train, Y_test = train_test_split(X,  y, test_size=0.1)"
   ]
  },
  {
   "cell_type": "markdown",
   "metadata": {
    "id": "pq6fQdFSVmXM"
   },
   "source": [
    "## Feature Scaling\n",
    "Standardize the features appropriately."
   ]
  },
  {
   "cell_type": "code",
   "execution_count": 49,
   "metadata": {
    "id": "BfTeMwTpVm-H"
   },
   "outputs": [],
   "source": [
    "from sklearn.preprocessing import StandardScaler\n",
    "scaler = StandardScaler()\n",
    "scaler.fit(X_train)\n",
    "\n",
    "X_train = scaler.transform(X_train)\n",
    "X_test = scaler.transform(X_test)"
   ]
  },
  {
   "cell_type": "markdown",
   "metadata": {
    "id": "E9myidoNgjmy"
   },
   "source": [
    "## Fine-tuning the Hyperparameters\n",
    "Experiment with various values for the chosen hyperparameter(s) and evaluate the model's performance using cross-validation."
   ]
  },
  {
   "cell_type": "code",
   "execution_count": 50,
   "metadata": {
    "id": "Vb5WJwEggm1f"
   },
   "outputs": [
    {
     "name": "stderr",
     "output_type": "stream",
     "text": [
      "C:\\Users\\Drej\\anaconda3\\lib\\site-packages\\sklearn\\model_selection\\_split.py:700: UserWarning: The least populated class in y has only 1 members, which is less than n_splits=5.\n",
      "  warnings.warn(\n"
     ]
    },
    {
     "data": {
      "text/html": [
       "<style>#sk-container-id-2 {color: black;background-color: white;}#sk-container-id-2 pre{padding: 0;}#sk-container-id-2 div.sk-toggleable {background-color: white;}#sk-container-id-2 label.sk-toggleable__label {cursor: pointer;display: block;width: 100%;margin-bottom: 0;padding: 0.3em;box-sizing: border-box;text-align: center;}#sk-container-id-2 label.sk-toggleable__label-arrow:before {content: \"▸\";float: left;margin-right: 0.25em;color: #696969;}#sk-container-id-2 label.sk-toggleable__label-arrow:hover:before {color: black;}#sk-container-id-2 div.sk-estimator:hover label.sk-toggleable__label-arrow:before {color: black;}#sk-container-id-2 div.sk-toggleable__content {max-height: 0;max-width: 0;overflow: hidden;text-align: left;background-color: #f0f8ff;}#sk-container-id-2 div.sk-toggleable__content pre {margin: 0.2em;color: black;border-radius: 0.25em;background-color: #f0f8ff;}#sk-container-id-2 input.sk-toggleable__control:checked~div.sk-toggleable__content {max-height: 200px;max-width: 100%;overflow: auto;}#sk-container-id-2 input.sk-toggleable__control:checked~label.sk-toggleable__label-arrow:before {content: \"▾\";}#sk-container-id-2 div.sk-estimator input.sk-toggleable__control:checked~label.sk-toggleable__label {background-color: #d4ebff;}#sk-container-id-2 div.sk-label input.sk-toggleable__control:checked~label.sk-toggleable__label {background-color: #d4ebff;}#sk-container-id-2 input.sk-hidden--visually {border: 0;clip: rect(1px 1px 1px 1px);clip: rect(1px, 1px, 1px, 1px);height: 1px;margin: -1px;overflow: hidden;padding: 0;position: absolute;width: 1px;}#sk-container-id-2 div.sk-estimator {font-family: monospace;background-color: #f0f8ff;border: 1px dotted black;border-radius: 0.25em;box-sizing: border-box;margin-bottom: 0.5em;}#sk-container-id-2 div.sk-estimator:hover {background-color: #d4ebff;}#sk-container-id-2 div.sk-parallel-item::after {content: \"\";width: 100%;border-bottom: 1px solid gray;flex-grow: 1;}#sk-container-id-2 div.sk-label:hover label.sk-toggleable__label {background-color: #d4ebff;}#sk-container-id-2 div.sk-serial::before {content: \"\";position: absolute;border-left: 1px solid gray;box-sizing: border-box;top: 0;bottom: 0;left: 50%;z-index: 0;}#sk-container-id-2 div.sk-serial {display: flex;flex-direction: column;align-items: center;background-color: white;padding-right: 0.2em;padding-left: 0.2em;position: relative;}#sk-container-id-2 div.sk-item {position: relative;z-index: 1;}#sk-container-id-2 div.sk-parallel {display: flex;align-items: stretch;justify-content: center;background-color: white;position: relative;}#sk-container-id-2 div.sk-item::before, #sk-container-id-2 div.sk-parallel-item::before {content: \"\";position: absolute;border-left: 1px solid gray;box-sizing: border-box;top: 0;bottom: 0;left: 50%;z-index: -1;}#sk-container-id-2 div.sk-parallel-item {display: flex;flex-direction: column;z-index: 1;position: relative;background-color: white;}#sk-container-id-2 div.sk-parallel-item:first-child::after {align-self: flex-end;width: 50%;}#sk-container-id-2 div.sk-parallel-item:last-child::after {align-self: flex-start;width: 50%;}#sk-container-id-2 div.sk-parallel-item:only-child::after {width: 0;}#sk-container-id-2 div.sk-dashed-wrapped {border: 1px dashed gray;margin: 0 0.4em 0.5em 0.4em;box-sizing: border-box;padding-bottom: 0.4em;background-color: white;}#sk-container-id-2 div.sk-label label {font-family: monospace;font-weight: bold;display: inline-block;line-height: 1.2em;}#sk-container-id-2 div.sk-label-container {text-align: center;}#sk-container-id-2 div.sk-container {/* jupyter's `normalize.less` sets `[hidden] { display: none; }` but bootstrap.min.css set `[hidden] { display: none !important; }` so we also need the `!important` here to be able to override the default hidden behavior on the sphinx rendered scikit-learn.org. See: https://github.com/scikit-learn/scikit-learn/issues/21755 */display: inline-block !important;position: relative;}#sk-container-id-2 div.sk-text-repr-fallback {display: none;}</style><div id=\"sk-container-id-2\" class=\"sk-top-container\"><div class=\"sk-text-repr-fallback\"><pre>GridSearchCV(cv=5, estimator=KNeighborsClassifier(),\n",
       "             param_grid={&#x27;n_neighbors&#x27;: array([ 1,  2,  3,  4,  5,  6,  7,  8,  9, 10, 11, 12, 13, 14, 15, 16, 17,\n",
       "       18, 19, 20, 21, 22, 23, 24, 25, 26, 27, 28, 29])})</pre><b>In a Jupyter environment, please rerun this cell to show the HTML representation or trust the notebook. <br />On GitHub, the HTML representation is unable to render, please try loading this page with nbviewer.org.</b></div><div class=\"sk-container\" hidden><div class=\"sk-item sk-dashed-wrapped\"><div class=\"sk-label-container\"><div class=\"sk-label sk-toggleable\"><input class=\"sk-toggleable__control sk-hidden--visually\" id=\"sk-estimator-id-2\" type=\"checkbox\" ><label for=\"sk-estimator-id-2\" class=\"sk-toggleable__label sk-toggleable__label-arrow\">GridSearchCV</label><div class=\"sk-toggleable__content\"><pre>GridSearchCV(cv=5, estimator=KNeighborsClassifier(),\n",
       "             param_grid={&#x27;n_neighbors&#x27;: array([ 1,  2,  3,  4,  5,  6,  7,  8,  9, 10, 11, 12, 13, 14, 15, 16, 17,\n",
       "       18, 19, 20, 21, 22, 23, 24, 25, 26, 27, 28, 29])})</pre></div></div></div><div class=\"sk-parallel\"><div class=\"sk-parallel-item\"><div class=\"sk-item\"><div class=\"sk-label-container\"><div class=\"sk-label sk-toggleable\"><input class=\"sk-toggleable__control sk-hidden--visually\" id=\"sk-estimator-id-3\" type=\"checkbox\" ><label for=\"sk-estimator-id-3\" class=\"sk-toggleable__label sk-toggleable__label-arrow\">estimator: KNeighborsClassifier</label><div class=\"sk-toggleable__content\"><pre>KNeighborsClassifier()</pre></div></div></div><div class=\"sk-serial\"><div class=\"sk-item\"><div class=\"sk-estimator sk-toggleable\"><input class=\"sk-toggleable__control sk-hidden--visually\" id=\"sk-estimator-id-4\" type=\"checkbox\" ><label for=\"sk-estimator-id-4\" class=\"sk-toggleable__label sk-toggleable__label-arrow\">KNeighborsClassifier</label><div class=\"sk-toggleable__content\"><pre>KNeighborsClassifier()</pre></div></div></div></div></div></div></div></div></div></div>"
      ],
      "text/plain": [
       "GridSearchCV(cv=5, estimator=KNeighborsClassifier(),\n",
       "             param_grid={'n_neighbors': array([ 1,  2,  3,  4,  5,  6,  7,  8,  9, 10, 11, 12, 13, 14, 15, 16, 17,\n",
       "       18, 19, 20, 21, 22, 23, 24, 25, 26, 27, 28, 29])})"
      ]
     },
     "execution_count": 50,
     "metadata": {},
     "output_type": "execute_result"
    }
   ],
   "source": [
    "from sklearn.model_selection import GridSearchCV, train_test_split\n",
    "import numpy as np\n",
    "\n",
    "knn = KNeighborsClassifier()\n",
    "param_grid = {'n_neighbors': np.arange(1, 30)}\n",
    "\n",
    "grid_search = GridSearchCV(estimator=knn, param_grid=param_grid, cv=5)  # 5-fold cross-validation\n",
    "grid_search.fit(X_train, Y_train)"
   ]
  },
  {
   "cell_type": "markdown",
   "metadata": {
    "id": "OzxTQJABiWAp"
   },
   "source": [
    "## Final Assessment of the Model Performance\n",
    "Upon determining the most suitable hyperparameter(s), evaluate the model's performance on a test set for final assessment."
   ]
  },
  {
   "cell_type": "code",
   "execution_count": 51,
   "metadata": {
    "id": "oK__muPhicCr"
   },
   "outputs": [
    {
     "name": "stdout",
     "output_type": "stream",
     "text": [
      "Best n_neighbors: 1\n"
     ]
    },
    {
     "ename": "NameError",
     "evalue": "name 'accuracy_score' is not defined",
     "output_type": "error",
     "traceback": [
      "\u001b[1;31m---------------------------------------------------------------------------\u001b[0m",
      "\u001b[1;31mNameError\u001b[0m                                 Traceback (most recent call last)",
      "Cell \u001b[1;32mIn[51], line 8\u001b[0m\n\u001b[0;32m      5\u001b[0m best_knn\u001b[38;5;241m.\u001b[39mfit(X_train, Y_train)\n\u001b[0;32m      7\u001b[0m Y_pred \u001b[38;5;241m=\u001b[39m best_knn\u001b[38;5;241m.\u001b[39mpredict(X_test)\n\u001b[1;32m----> 8\u001b[0m test_accuracy \u001b[38;5;241m=\u001b[39m \u001b[43maccuracy_score\u001b[49m(Y_test, Y_pred)\n\u001b[0;32m      9\u001b[0m \u001b[38;5;28mprint\u001b[39m(\u001b[38;5;124mf\u001b[39m\u001b[38;5;124m\"\u001b[39m\u001b[38;5;124mTest set accuracy: \u001b[39m\u001b[38;5;132;01m{\u001b[39;00mtest_accuracy\u001b[38;5;132;01m:\u001b[39;00m\u001b[38;5;124m.4f\u001b[39m\u001b[38;5;132;01m}\u001b[39;00m\u001b[38;5;124m\"\u001b[39m)\n",
      "\u001b[1;31mNameError\u001b[0m: name 'accuracy_score' is not defined"
     ]
    }
   ],
   "source": [
    "best_n_neighbors = grid_search.best_params_['n_neighbors']\n",
    "print(f\"Best n_neighbors: {best_n_neighbors}\")\n",
    "\n",
    "best_knn = KNeighborsClassifier(n_neighbors=best_n_neighbors)\n",
    "best_knn.fit(X_train, Y_train)\n",
    "\n",
    "Y_pred = best_knn.predict(X_test)\n",
    "test_accuracy = accuracy_score(Y_test, Y_pred)\n",
    "print(f\"Test set accuracy: {test_accuracy:.4f}\")"
   ]
  },
  {
   "cell_type": "code",
   "execution_count": null,
   "metadata": {},
   "outputs": [],
   "source": []
  }
 ],
 "metadata": {
  "colab": {
   "authorship_tag": "ABX9TyPDMUBWXeubZGwI6uBTNico",
   "provenance": [
    {
     "file_id": "1nq7g_dDSicnHsGKtAscx6N1Xm4l6RSLk",
     "timestamp": 1731607907468
    },
    {
     "file_id": "170uEex-Tcf-aP3QNjLR2HRZiYSW7z2JA",
     "timestamp": 1731602659718
    },
    {
     "file_id": "17BAr_KtYVe5MO7sUTFRP4Ce4UfPVE1mG",
     "timestamp": 1699906967954
    },
    {
     "file_id": "1qdHYdGh6WVC1ZgxyABQyhsjz8Pmn2VBJ",
     "timestamp": 1699902041131
    }
   ]
  },
  "kernelspec": {
   "display_name": "Python 3 (ipykernel)",
   "language": "python",
   "name": "python3"
  },
  "language_info": {
   "codemirror_mode": {
    "name": "ipython",
    "version": 3
   },
   "file_extension": ".py",
   "mimetype": "text/x-python",
   "name": "python",
   "nbconvert_exporter": "python",
   "pygments_lexer": "ipython3",
   "version": "3.10.9"
  }
 },
 "nbformat": 4,
 "nbformat_minor": 1
}
