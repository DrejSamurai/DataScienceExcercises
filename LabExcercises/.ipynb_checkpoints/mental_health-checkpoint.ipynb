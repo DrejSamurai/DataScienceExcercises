{
 "cells": [
  {
   "cell_type": "markdown",
   "metadata": {
    "id": "rODb9vHvIEbp"
   },
   "source": [
    "# Requirements"
   ]
  },
  {
   "cell_type": "code",
   "execution_count": 1,
   "metadata": {
    "id": "U4KmHBd2cdx9"
   },
   "outputs": [],
   "source": [
    "%matplotlib inline\n",
    "import matplotlib.pyplot as plt\n",
    "from sklearn.model_selection import train_test_split\n",
    "from sklearn.preprocessing import StandardScaler\n",
    "from sklearn.linear_model import LinearRegression\n",
    "import pandas as pd\n",
    "import missingno as msno\n",
    "import seaborn as sns"
   ]
  },
  {
   "cell_type": "markdown",
   "metadata": {
    "id": "KNMMoUiUIW3L"
   },
   "source": [
    "# Laboratory Exercise - Run Mode (8 points)"
   ]
  },
  {
   "cell_type": "markdown",
   "metadata": {
    "id": "zBYI-EypaWom"
   },
   "source": [
    "## The Mental Health Diagnosis and Treatment Monitoring Dataset\n",
    "The dataset contains information on 500 individuals, focusing on mental health diagnoses, treatment plans, and outcomes. Key features include patient demographics such as age and gender, as well as specific mental health conditions (e.g., anxiety, depression, etc.). The dataset also captures symptom severity, mood scores, sleep quality, and stress levels, all rated on a scale of 1 to 10, providing insight into the patient's mental and physical well-being. Additionally, it includes details on treatment plans, including prescribed medications (e.g., SSRIs, antidepressants, etc.), therapy types (e.g., CBT, DBT, etc.), and treatment duration. Progress tracking is also incorporated, with ratings for treatment progress and AI-detected emotional state, alongside adherence to the treatment plan. The 'outcome' attribute, which indicates whether the treatment was improved, deteriorated, or unaffected, serves as the target variable for the analysis, while the remaining attributes can be used to explore and model the factors affecting mental health treatment outcomes."
   ]
  },
  {
   "cell_type": "markdown",
   "metadata": {
    "id": "DCm1qm1mZwMr"
   },
   "source": [
    "Load the dataset into a `pandas` data frame."
   ]
  },
  {
   "cell_type": "code",
   "execution_count": 2,
   "metadata": {
    "id": "KMOn4fgcZn8s"
   },
   "outputs": [],
   "source": [
    "data = pd.read_csv('mental_health_diagnosis_treatment_data.csv')"
   ]
  },
  {
   "cell_type": "markdown",
   "metadata": {
    "id": "7yVjyyL-SENC"
   },
   "source": [
    "Preprocess the input and the output variables appropriately."
   ]
  },
  {
   "cell_type": "code",
   "execution_count": 3,
   "metadata": {
    "id": "VFMBXEUkSD5V"
   },
   "outputs": [
    {
     "data": {
      "text/html": [
       "<div>\n",
       "<style scoped>\n",
       "    .dataframe tbody tr th:only-of-type {\n",
       "        vertical-align: middle;\n",
       "    }\n",
       "\n",
       "    .dataframe tbody tr th {\n",
       "        vertical-align: top;\n",
       "    }\n",
       "\n",
       "    .dataframe thead th {\n",
       "        text-align: right;\n",
       "    }\n",
       "</style>\n",
       "<table border=\"1\" class=\"dataframe\">\n",
       "  <thead>\n",
       "    <tr style=\"text-align: right;\">\n",
       "      <th></th>\n",
       "      <th>Patient ID</th>\n",
       "      <th>Age</th>\n",
       "      <th>Gender</th>\n",
       "      <th>Diagnosis</th>\n",
       "      <th>Symptom Severity (1-10)</th>\n",
       "      <th>Mood Score (1-10)</th>\n",
       "      <th>Sleep Quality (1-10)</th>\n",
       "      <th>Physical Activity (hrs/week)</th>\n",
       "      <th>Medication</th>\n",
       "      <th>Therapy Type</th>\n",
       "      <th>Treatment Start Date</th>\n",
       "      <th>Treatment Duration (weeks)</th>\n",
       "      <th>Stress Level (1-10)</th>\n",
       "      <th>Outcome</th>\n",
       "      <th>Treatment Progress (1-10)</th>\n",
       "      <th>AI-Detected Emotional State</th>\n",
       "      <th>Adherence to Treatment (%)</th>\n",
       "    </tr>\n",
       "  </thead>\n",
       "  <tbody>\n",
       "    <tr>\n",
       "      <th>0</th>\n",
       "      <td>1</td>\n",
       "      <td>43.0</td>\n",
       "      <td>Female</td>\n",
       "      <td>Major Depressive Disorder</td>\n",
       "      <td>10</td>\n",
       "      <td>5</td>\n",
       "      <td>8</td>\n",
       "      <td>NaN</td>\n",
       "      <td>Mood Stabilizers</td>\n",
       "      <td>Interpersonal Therapy</td>\n",
       "      <td>2024-01-25</td>\n",
       "      <td>11</td>\n",
       "      <td>NaN</td>\n",
       "      <td>Deteriorated</td>\n",
       "      <td>7</td>\n",
       "      <td>Anxious</td>\n",
       "      <td>66</td>\n",
       "    </tr>\n",
       "    <tr>\n",
       "      <th>1</th>\n",
       "      <td>2</td>\n",
       "      <td>40.0</td>\n",
       "      <td>Female</td>\n",
       "      <td>Major Depressive Disorder</td>\n",
       "      <td>9</td>\n",
       "      <td>5</td>\n",
       "      <td>4</td>\n",
       "      <td>7.0</td>\n",
       "      <td>Antipsychotics</td>\n",
       "      <td>Interpersonal Therapy</td>\n",
       "      <td>2024-02-27</td>\n",
       "      <td>11</td>\n",
       "      <td>7.0</td>\n",
       "      <td>No Change</td>\n",
       "      <td>7</td>\n",
       "      <td>Neutral</td>\n",
       "      <td>78</td>\n",
       "    </tr>\n",
       "    <tr>\n",
       "      <th>2</th>\n",
       "      <td>3</td>\n",
       "      <td>55.0</td>\n",
       "      <td>Female</td>\n",
       "      <td>Major Depressive Disorder</td>\n",
       "      <td>6</td>\n",
       "      <td>3</td>\n",
       "      <td>4</td>\n",
       "      <td>NaN</td>\n",
       "      <td>SSRIs</td>\n",
       "      <td>Mindfulness-Based Therapy</td>\n",
       "      <td>2024-03-20</td>\n",
       "      <td>14</td>\n",
       "      <td>NaN</td>\n",
       "      <td>Deteriorated</td>\n",
       "      <td>5</td>\n",
       "      <td>Happy</td>\n",
       "      <td>62</td>\n",
       "    </tr>\n",
       "    <tr>\n",
       "      <th>3</th>\n",
       "      <td>4</td>\n",
       "      <td>34.0</td>\n",
       "      <td>Female</td>\n",
       "      <td>Major Depressive Disorder</td>\n",
       "      <td>6</td>\n",
       "      <td>3</td>\n",
       "      <td>6</td>\n",
       "      <td>5.0</td>\n",
       "      <td>SSRIs</td>\n",
       "      <td>Mindfulness-Based Therapy</td>\n",
       "      <td>2024-03-29</td>\n",
       "      <td>8</td>\n",
       "      <td>8.0</td>\n",
       "      <td>Deteriorated</td>\n",
       "      <td>10</td>\n",
       "      <td>Excited</td>\n",
       "      <td>72</td>\n",
       "    </tr>\n",
       "    <tr>\n",
       "      <th>4</th>\n",
       "      <td>5</td>\n",
       "      <td>52.0</td>\n",
       "      <td>Male</td>\n",
       "      <td>Panic Disorder</td>\n",
       "      <td>7</td>\n",
       "      <td>6</td>\n",
       "      <td>6</td>\n",
       "      <td>8.0</td>\n",
       "      <td>Anxiolytics</td>\n",
       "      <td>Interpersonal Therapy</td>\n",
       "      <td>2024-03-18</td>\n",
       "      <td>12</td>\n",
       "      <td>5.0</td>\n",
       "      <td>Deteriorated</td>\n",
       "      <td>6</td>\n",
       "      <td>Excited</td>\n",
       "      <td>63</td>\n",
       "    </tr>\n",
       "  </tbody>\n",
       "</table>\n",
       "</div>"
      ],
      "text/plain": [
       "   Patient ID   Age  Gender                  Diagnosis  \\\n",
       "0           1  43.0  Female  Major Depressive Disorder   \n",
       "1           2  40.0  Female  Major Depressive Disorder   \n",
       "2           3  55.0  Female  Major Depressive Disorder   \n",
       "3           4  34.0  Female  Major Depressive Disorder   \n",
       "4           5  52.0    Male             Panic Disorder   \n",
       "\n",
       "   Symptom Severity (1-10)  Mood Score (1-10)  Sleep Quality (1-10)  \\\n",
       "0                       10                  5                     8   \n",
       "1                        9                  5                     4   \n",
       "2                        6                  3                     4   \n",
       "3                        6                  3                     6   \n",
       "4                        7                  6                     6   \n",
       "\n",
       "   Physical Activity (hrs/week)        Medication               Therapy Type  \\\n",
       "0                           NaN  Mood Stabilizers      Interpersonal Therapy   \n",
       "1                           7.0    Antipsychotics      Interpersonal Therapy   \n",
       "2                           NaN             SSRIs  Mindfulness-Based Therapy   \n",
       "3                           5.0             SSRIs  Mindfulness-Based Therapy   \n",
       "4                           8.0       Anxiolytics      Interpersonal Therapy   \n",
       "\n",
       "  Treatment Start Date  Treatment Duration (weeks)  Stress Level (1-10)  \\\n",
       "0           2024-01-25                          11                  NaN   \n",
       "1           2024-02-27                          11                  7.0   \n",
       "2           2024-03-20                          14                  NaN   \n",
       "3           2024-03-29                           8                  8.0   \n",
       "4           2024-03-18                          12                  5.0   \n",
       "\n",
       "        Outcome  Treatment Progress (1-10) AI-Detected Emotional State  \\\n",
       "0  Deteriorated                          7                     Anxious   \n",
       "1     No Change                          7                     Neutral   \n",
       "2  Deteriorated                          5                       Happy   \n",
       "3  Deteriorated                         10                     Excited   \n",
       "4  Deteriorated                          6                     Excited   \n",
       "\n",
       "   Adherence to Treatment (%)  \n",
       "0                          66  \n",
       "1                          78  \n",
       "2                          62  \n",
       "3                          72  \n",
       "4                          63  "
      ]
     },
     "execution_count": 3,
     "metadata": {},
     "output_type": "execute_result"
    }
   ],
   "source": [
    "data.head()"
   ]
  },
  {
   "cell_type": "markdown",
   "metadata": {
    "id": "5slwyyhCKRo9"
   },
   "source": [
    "Explore the dataset using visualizations of your choice."
   ]
  },
  {
   "cell_type": "code",
   "execution_count": 4,
   "metadata": {},
   "outputs": [
    {
     "name": "stdout",
     "output_type": "stream",
     "text": [
      "<class 'pandas.core.frame.DataFrame'>\n",
      "RangeIndex: 500 entries, 0 to 499\n",
      "Data columns (total 17 columns):\n",
      " #   Column                        Non-Null Count  Dtype  \n",
      "---  ------                        --------------  -----  \n",
      " 0   Patient ID                    500 non-null    int64  \n",
      " 1   Age                           475 non-null    float64\n",
      " 2   Gender                        500 non-null    object \n",
      " 3   Diagnosis                     500 non-null    object \n",
      " 4   Symptom Severity (1-10)       500 non-null    int64  \n",
      " 5   Mood Score (1-10)             500 non-null    int64  \n",
      " 6   Sleep Quality (1-10)          500 non-null    int64  \n",
      " 7   Physical Activity (hrs/week)  450 non-null    float64\n",
      " 8   Medication                    500 non-null    object \n",
      " 9   Therapy Type                  500 non-null    object \n",
      " 10  Treatment Start Date          500 non-null    object \n",
      " 11  Treatment Duration (weeks)    500 non-null    int64  \n",
      " 12  Stress Level (1-10)           400 non-null    float64\n",
      " 13  Outcome                       500 non-null    object \n",
      " 14  Treatment Progress (1-10)     500 non-null    int64  \n",
      " 15  AI-Detected Emotional State   500 non-null    object \n",
      " 16  Adherence to Treatment (%)    500 non-null    int64  \n",
      "dtypes: float64(3), int64(7), object(7)\n",
      "memory usage: 66.5+ KB\n"
     ]
    }
   ],
   "source": [
    "data.info()"
   ]
  },
  {
   "cell_type": "code",
   "execution_count": null,
   "metadata": {
    "id": "DFY6TKhGKOY4"
   },
   "outputs": [],
   "source": [
    "# Write your code here. Add as many boxes as you need."
   ]
  },
  {
   "cell_type": "markdown",
   "metadata": {
    "id": "aHu0QDOtM-mK"
   },
   "source": [
    "Check if the dataset is balanced."
   ]
  },
  {
   "cell_type": "code",
   "execution_count": null,
   "metadata": {
    "id": "y-gl5hyJM_vG"
   },
   "outputs": [],
   "source": [
    "# Write your code here. Add as many boxes as you need."
   ]
  },
  {
   "cell_type": "markdown",
   "metadata": {
    "id": "KwGjJs4rLi0P"
   },
   "source": [
    "## Detecting Missing Values\n",
    "Calculate the percentage of missing values present in each column of the dataset."
   ]
  },
  {
   "cell_type": "code",
   "execution_count": null,
   "metadata": {
    "id": "L1l_JV-nL3ND"
   },
   "outputs": [],
   "source": [
    "# Write your code here. Add as many boxes as you need."
   ]
  },
  {
   "cell_type": "markdown",
   "metadata": {
    "id": "_5n7SWKfL46j"
   },
   "source": [
    "## Understanding the Causes Behind Missing Values\n",
    "Using visualization tools such as heatmaps, and dendrograms, illustrate the interdependence between attributes with missing values. Also, visualize the distribution of the missing values within the dataset using matrices and bar charts."
   ]
  },
  {
   "cell_type": "code",
   "execution_count": null,
   "metadata": {
    "id": "Wa7uzbI5L4kL"
   },
   "outputs": [],
   "source": [
    "# Write your code here. Add as many boxes as you need."
   ]
  },
  {
   "cell_type": "markdown",
   "metadata": {
    "id": "99Gjo6KhMKqt"
   },
   "source": [
    "## Handling the Missing Values\n",
    "Handle the missing values using suitable method based on the insights obtained from the various visualizations."
   ]
  },
  {
   "cell_type": "code",
   "execution_count": null,
   "metadata": {
    "id": "urmTiMn2MKgV"
   },
   "outputs": [],
   "source": [
    "# Write your code here. Add as many boxes as you need."
   ]
  },
  {
   "cell_type": "markdown",
   "metadata": {
    "id": "tls69_PrbJKW"
   },
   "source": [
    "## Dataset Splitting\n",
    "Partition the dataset into training and testing sets with an 80:20 ratio."
   ]
  },
  {
   "cell_type": "code",
   "execution_count": null,
   "metadata": {
    "id": "PjGGGMxebeoB"
   },
   "outputs": [],
   "source": [
    "# Write your code here. Add as many boxes as you need."
   ]
  },
  {
   "cell_type": "markdown",
   "metadata": {
    "id": "qhiEJI_xJ0Bt"
   },
   "source": [
    "## Feature Scaling\n",
    "Standardize the features appropriately."
   ]
  },
  {
   "cell_type": "code",
   "execution_count": null,
   "metadata": {
    "id": "nwQFchgSKK8p"
   },
   "outputs": [],
   "source": [
    "# Write your code here. Add as many boxes as you need."
   ]
  },
  {
   "cell_type": "markdown",
   "metadata": {
    "id": "VIkAR1Hibiwr"
   },
   "source": [
    "## Model Selection"
   ]
  },
  {
   "cell_type": "markdown",
   "metadata": {
    "id": "qWn1pafKbnxH"
   },
   "source": [
    "Choose and train an approriate model for the given task."
   ]
  },
  {
   "cell_type": "code",
   "execution_count": null,
   "metadata": {
    "id": "IXFIrQthbnkb"
   },
   "outputs": [],
   "source": [
    "# Write your code here. Add as many boxes as you need."
   ]
  },
  {
   "cell_type": "markdown",
   "metadata": {
    "id": "gyXZwAVab8Cp"
   },
   "source": [
    "Use the trained model to make predictions for the test set."
   ]
  },
  {
   "cell_type": "code",
   "execution_count": null,
   "metadata": {
    "id": "EvMfVum6b_9b"
   },
   "outputs": [],
   "source": [
    "# Write your code here. Add as many boxes as you need."
   ]
  },
  {
   "cell_type": "markdown",
   "metadata": {
    "id": "3VxAvDPtcNCh"
   },
   "source": [
    "Assess the performance of the model by using different classification metrics."
   ]
  },
  {
   "cell_type": "code",
   "execution_count": null,
   "metadata": {
    "id": "V4axpktycQhp"
   },
   "outputs": [],
   "source": [
    "# Write your code here. Add as many boxes as you need."
   ]
  },
  {
   "cell_type": "markdown",
   "metadata": {
    "id": "RwnD_qSpIeXG"
   },
   "source": [
    "# Laboratory Exercise - Bonus Task (+ 2 points)"
   ]
  },
  {
   "cell_type": "markdown",
   "metadata": {
    "id": "lSTuVpyYd2is"
   },
   "source": [
    "As part of the bonus task in this laboratory assignment, your objective is to fine-tune at least one hyper-parameter using a cross-validation with grid search. This involves systematically experimenting with various values for the hyper-parameter(s) and evaluating the model's performance using cross-validation. Upon determining the most suitable value(s) for the hyper-parameter(s), evaluate the model's performance on a test set for final assessment.\n",
    "\n",
    "Hint: Use the `GridCVSearch` from the `scikit-learn` library. Check the documentation at https://scikit-learn.org/stable/modules/generated/sklearn.model_selection.GridSearchCV.html."
   ]
  },
  {
   "cell_type": "markdown",
   "metadata": {
    "id": "yZriA4d4eWLJ"
   },
   "source": [
    "## Dataset Splitting\n",
    "Partition the dataset into training and testing sets with an 90:10 ratio."
   ]
  },
  {
   "cell_type": "code",
   "execution_count": null,
   "metadata": {
    "id": "ile-T3vmIfsm"
   },
   "outputs": [],
   "source": [
    "# Write your code here. Add as many boxes as you need."
   ]
  },
  {
   "cell_type": "markdown",
   "metadata": {
    "id": "pq6fQdFSVmXM"
   },
   "source": [
    "## Feature Scaling\n",
    "Standardize the features appropriately."
   ]
  },
  {
   "cell_type": "code",
   "execution_count": null,
   "metadata": {
    "id": "BfTeMwTpVm-H"
   },
   "outputs": [],
   "source": [
    "# Write your code here. Add as many boxes as you need."
   ]
  },
  {
   "cell_type": "markdown",
   "metadata": {
    "id": "E9myidoNgjmy"
   },
   "source": [
    "## Fine-tuning the Hyperparameters\n",
    "Experiment with various values for the chosen hyperparameter(s) and evaluate the model's performance using cross-validation."
   ]
  },
  {
   "cell_type": "code",
   "execution_count": null,
   "metadata": {
    "id": "Vb5WJwEggm1f"
   },
   "outputs": [],
   "source": [
    "# Write your code here. Add as many boxes as you need."
   ]
  },
  {
   "cell_type": "markdown",
   "metadata": {
    "id": "OzxTQJABiWAp"
   },
   "source": [
    "## Final Assessment of the Model Performance\n",
    "Upon determining the most suitable hyperparameter(s), evaluate the model's performance on a test set for final assessment."
   ]
  },
  {
   "cell_type": "code",
   "execution_count": null,
   "metadata": {
    "id": "oK__muPhicCr"
   },
   "outputs": [],
   "source": [
    "# Write your code here. Add as many boxes as you need."
   ]
  }
 ],
 "metadata": {
  "colab": {
   "authorship_tag": "ABX9TyNL+RdwCyqpe1Ge4ordOQpb",
   "provenance": [
    {
     "file_id": "1_k1YeAPztMAAg0n95ZXVbRCx9xTp9m_Y",
     "timestamp": 1731608289708
    },
    {
     "file_id": "1nq7g_dDSicnHsGKtAscx6N1Xm4l6RSLk",
     "timestamp": 1731607907468
    },
    {
     "file_id": "170uEex-Tcf-aP3QNjLR2HRZiYSW7z2JA",
     "timestamp": 1731602659718
    },
    {
     "file_id": "17BAr_KtYVe5MO7sUTFRP4Ce4UfPVE1mG",
     "timestamp": 1699906967954
    },
    {
     "file_id": "1qdHYdGh6WVC1ZgxyABQyhsjz8Pmn2VBJ",
     "timestamp": 1699902041131
    }
   ]
  },
  "kernelspec": {
   "display_name": "Python 3 (ipykernel)",
   "language": "python",
   "name": "python3"
  },
  "language_info": {
   "codemirror_mode": {
    "name": "ipython",
    "version": 3
   },
   "file_extension": ".py",
   "mimetype": "text/x-python",
   "name": "python",
   "nbconvert_exporter": "python",
   "pygments_lexer": "ipython3",
   "version": "3.10.9"
  }
 },
 "nbformat": 4,
 "nbformat_minor": 1
}
