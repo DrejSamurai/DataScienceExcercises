{
 "cells": [
  {
   "cell_type": "code",
   "execution_count": 1,
   "id": "7a1097a2-fd69-4aac-a91f-0eb9fffe7025",
   "metadata": {},
   "outputs": [],
   "source": [
    "import pandas as pd\n",
    "import seaborn as sns\n",
    "import matplotlib.pyplot as plt\n",
    "from sklearn.model_selection import train_test_split\n",
    "from sklearn.metrics import r2_score\n",
    "from sklearn.preprocessing import MinMaxScaler"
   ]
  },
  {
   "cell_type": "code",
   "execution_count": 71,
   "id": "2c6b5670-ae5c-48e5-a513-4a191e1f7915",
   "metadata": {},
   "outputs": [],
   "source": [
    "from keras.models import Sequential\n",
    "from keras.layers import Input, LSTM, Dense"
   ]
  },
  {
   "cell_type": "code",
   "execution_count": 5,
   "id": "d454edc2-c288-4a5d-8b27-b0724678d920",
   "metadata": {},
   "outputs": [],
   "source": [
    "df = pd.read_csv('bitstampUSD_1-min_data_2012-01-01_to_2021-03-31.csv')"
   ]
  },
  {
   "cell_type": "code",
   "execution_count": 7,
   "id": "5465105d-8b39-43cd-9338-91f15955bdc6",
   "metadata": {},
   "outputs": [
    {
     "data": {
      "text/html": [
       "<div>\n",
       "<style scoped>\n",
       "    .dataframe tbody tr th:only-of-type {\n",
       "        vertical-align: middle;\n",
       "    }\n",
       "\n",
       "    .dataframe tbody tr th {\n",
       "        vertical-align: top;\n",
       "    }\n",
       "\n",
       "    .dataframe thead th {\n",
       "        text-align: right;\n",
       "    }\n",
       "</style>\n",
       "<table border=\"1\" class=\"dataframe\">\n",
       "  <thead>\n",
       "    <tr style=\"text-align: right;\">\n",
       "      <th></th>\n",
       "      <th>Timestamp</th>\n",
       "      <th>Open</th>\n",
       "      <th>High</th>\n",
       "      <th>Low</th>\n",
       "      <th>Close</th>\n",
       "      <th>Volume_(BTC)</th>\n",
       "      <th>Volume_(Currency)</th>\n",
       "      <th>Weighted_Price</th>\n",
       "    </tr>\n",
       "  </thead>\n",
       "  <tbody>\n",
       "    <tr>\n",
       "      <th>0</th>\n",
       "      <td>1325317920</td>\n",
       "      <td>4.39</td>\n",
       "      <td>4.39</td>\n",
       "      <td>4.39</td>\n",
       "      <td>4.39</td>\n",
       "      <td>0.455581</td>\n",
       "      <td>2.000000</td>\n",
       "      <td>4.390000</td>\n",
       "    </tr>\n",
       "    <tr>\n",
       "      <th>1</th>\n",
       "      <td>1325317980</td>\n",
       "      <td>NaN</td>\n",
       "      <td>NaN</td>\n",
       "      <td>NaN</td>\n",
       "      <td>NaN</td>\n",
       "      <td>NaN</td>\n",
       "      <td>NaN</td>\n",
       "      <td>NaN</td>\n",
       "    </tr>\n",
       "    <tr>\n",
       "      <th>2</th>\n",
       "      <td>1325318040</td>\n",
       "      <td>NaN</td>\n",
       "      <td>NaN</td>\n",
       "      <td>NaN</td>\n",
       "      <td>NaN</td>\n",
       "      <td>NaN</td>\n",
       "      <td>NaN</td>\n",
       "      <td>NaN</td>\n",
       "    </tr>\n",
       "    <tr>\n",
       "      <th>3</th>\n",
       "      <td>1325318100</td>\n",
       "      <td>NaN</td>\n",
       "      <td>NaN</td>\n",
       "      <td>NaN</td>\n",
       "      <td>NaN</td>\n",
       "      <td>NaN</td>\n",
       "      <td>NaN</td>\n",
       "      <td>NaN</td>\n",
       "    </tr>\n",
       "    <tr>\n",
       "      <th>4</th>\n",
       "      <td>1325318160</td>\n",
       "      <td>NaN</td>\n",
       "      <td>NaN</td>\n",
       "      <td>NaN</td>\n",
       "      <td>NaN</td>\n",
       "      <td>NaN</td>\n",
       "      <td>NaN</td>\n",
       "      <td>NaN</td>\n",
       "    </tr>\n",
       "    <tr>\n",
       "      <th>...</th>\n",
       "      <td>...</td>\n",
       "      <td>...</td>\n",
       "      <td>...</td>\n",
       "      <td>...</td>\n",
       "      <td>...</td>\n",
       "      <td>...</td>\n",
       "      <td>...</td>\n",
       "      <td>...</td>\n",
       "    </tr>\n",
       "    <tr>\n",
       "      <th>4857372</th>\n",
       "      <td>1617148560</td>\n",
       "      <td>58714.31</td>\n",
       "      <td>58714.31</td>\n",
       "      <td>58686.00</td>\n",
       "      <td>58686.00</td>\n",
       "      <td>1.384487</td>\n",
       "      <td>81259.372187</td>\n",
       "      <td>58692.753339</td>\n",
       "    </tr>\n",
       "    <tr>\n",
       "      <th>4857373</th>\n",
       "      <td>1617148620</td>\n",
       "      <td>58683.97</td>\n",
       "      <td>58693.43</td>\n",
       "      <td>58683.97</td>\n",
       "      <td>58685.81</td>\n",
       "      <td>7.294848</td>\n",
       "      <td>428158.146640</td>\n",
       "      <td>58693.226508</td>\n",
       "    </tr>\n",
       "    <tr>\n",
       "      <th>4857374</th>\n",
       "      <td>1617148680</td>\n",
       "      <td>58693.43</td>\n",
       "      <td>58723.84</td>\n",
       "      <td>58693.43</td>\n",
       "      <td>58723.84</td>\n",
       "      <td>1.705682</td>\n",
       "      <td>100117.070370</td>\n",
       "      <td>58696.198496</td>\n",
       "    </tr>\n",
       "    <tr>\n",
       "      <th>4857375</th>\n",
       "      <td>1617148740</td>\n",
       "      <td>58742.18</td>\n",
       "      <td>58770.38</td>\n",
       "      <td>58742.18</td>\n",
       "      <td>58760.59</td>\n",
       "      <td>0.720415</td>\n",
       "      <td>42332.958633</td>\n",
       "      <td>58761.866202</td>\n",
       "    </tr>\n",
       "    <tr>\n",
       "      <th>4857376</th>\n",
       "      <td>1617148800</td>\n",
       "      <td>58767.75</td>\n",
       "      <td>58778.18</td>\n",
       "      <td>58755.97</td>\n",
       "      <td>58778.18</td>\n",
       "      <td>2.712831</td>\n",
       "      <td>159417.751000</td>\n",
       "      <td>58764.349363</td>\n",
       "    </tr>\n",
       "  </tbody>\n",
       "</table>\n",
       "<p>4857377 rows × 8 columns</p>\n",
       "</div>"
      ],
      "text/plain": [
       "          Timestamp      Open      High       Low     Close  Volume_(BTC)  \\\n",
       "0        1325317920      4.39      4.39      4.39      4.39      0.455581   \n",
       "1        1325317980       NaN       NaN       NaN       NaN           NaN   \n",
       "2        1325318040       NaN       NaN       NaN       NaN           NaN   \n",
       "3        1325318100       NaN       NaN       NaN       NaN           NaN   \n",
       "4        1325318160       NaN       NaN       NaN       NaN           NaN   \n",
       "...             ...       ...       ...       ...       ...           ...   \n",
       "4857372  1617148560  58714.31  58714.31  58686.00  58686.00      1.384487   \n",
       "4857373  1617148620  58683.97  58693.43  58683.97  58685.81      7.294848   \n",
       "4857374  1617148680  58693.43  58723.84  58693.43  58723.84      1.705682   \n",
       "4857375  1617148740  58742.18  58770.38  58742.18  58760.59      0.720415   \n",
       "4857376  1617148800  58767.75  58778.18  58755.97  58778.18      2.712831   \n",
       "\n",
       "         Volume_(Currency)  Weighted_Price  \n",
       "0                 2.000000        4.390000  \n",
       "1                      NaN             NaN  \n",
       "2                      NaN             NaN  \n",
       "3                      NaN             NaN  \n",
       "4                      NaN             NaN  \n",
       "...                    ...             ...  \n",
       "4857372       81259.372187    58692.753339  \n",
       "4857373      428158.146640    58693.226508  \n",
       "4857374      100117.070370    58696.198496  \n",
       "4857375       42332.958633    58761.866202  \n",
       "4857376      159417.751000    58764.349363  \n",
       "\n",
       "[4857377 rows x 8 columns]"
      ]
     },
     "execution_count": 7,
     "metadata": {},
     "output_type": "execute_result"
    }
   ],
   "source": [
    "df"
   ]
  },
  {
   "cell_type": "code",
   "execution_count": 9,
   "id": "ee1ad150-e0c1-4dc2-ad3a-577350579375",
   "metadata": {},
   "outputs": [
    {
     "data": {
      "text/plain": [
       "Timestamp                  0\n",
       "Open                 1243608\n",
       "High                 1243608\n",
       "Low                  1243608\n",
       "Close                1243608\n",
       "Volume_(BTC)         1243608\n",
       "Volume_(Currency)    1243608\n",
       "Weighted_Price       1243608\n",
       "dtype: int64"
      ]
     },
     "execution_count": 9,
     "metadata": {},
     "output_type": "execute_result"
    }
   ],
   "source": [
    "df.isnull().sum()"
   ]
  },
  {
   "cell_type": "code",
   "execution_count": 11,
   "id": "3dce431f-ee20-4cd4-b120-ffd05df74865",
   "metadata": {},
   "outputs": [],
   "source": [
    "df = df.dropna()"
   ]
  },
  {
   "cell_type": "code",
   "execution_count": 13,
   "id": "0b6ade15-4cff-4434-a32e-51357c616730",
   "metadata": {},
   "outputs": [
    {
     "name": "stderr",
     "output_type": "stream",
     "text": [
      "C:\\Users\\Drej\\AppData\\Local\\Temp\\ipykernel_22288\\1833214507.py:1: SettingWithCopyWarning: \n",
      "A value is trying to be set on a copy of a slice from a DataFrame.\n",
      "Try using .loc[row_indexer,col_indexer] = value instead\n",
      "\n",
      "See the caveats in the documentation: https://pandas.pydata.org/pandas-docs/stable/user_guide/indexing.html#returning-a-view-versus-a-copy\n",
      "  df[\"Timestamp\"] = pd.to_datetime(df[\"Timestamp\"], unit=\"s\")\n"
     ]
    }
   ],
   "source": [
    "df[\"Timestamp\"] = pd.to_datetime(df[\"Timestamp\"], unit=\"s\")"
   ]
  },
  {
   "cell_type": "code",
   "execution_count": 15,
   "id": "a9931381-c2fd-43cf-be67-364e0b3f289b",
   "metadata": {},
   "outputs": [],
   "source": [
    "df.set_index(keys=[\"Timestamp\"], inplace=True)"
   ]
  },
  {
   "cell_type": "code",
   "execution_count": 17,
   "id": "25a2d6aa-4b1f-4865-8a4e-ebe46f9d06d7",
   "metadata": {},
   "outputs": [],
   "source": [
    "df.sort_index(inplace=True)"
   ]
  },
  {
   "cell_type": "code",
   "execution_count": 19,
   "id": "fdd181e9-276f-42f7-9ae3-bb1fdcf17c9e",
   "metadata": {},
   "outputs": [],
   "source": [
    "df = df[\"2021-03-20 00:00:00\":].copy(deep=True)"
   ]
  },
  {
   "cell_type": "code",
   "execution_count": 21,
   "id": "3e023d63-8e3c-443f-9fa5-0b55b16641eb",
   "metadata": {},
   "outputs": [],
   "source": [
    "df.ffill(inplace=True)"
   ]
  },
  {
   "cell_type": "code",
   "execution_count": 23,
   "id": "7dd632e8-65d4-49aa-b41a-e8eefe51cc1b",
   "metadata": {},
   "outputs": [
    {
     "data": {
      "text/html": [
       "<div>\n",
       "<style scoped>\n",
       "    .dataframe tbody tr th:only-of-type {\n",
       "        vertical-align: middle;\n",
       "    }\n",
       "\n",
       "    .dataframe tbody tr th {\n",
       "        vertical-align: top;\n",
       "    }\n",
       "\n",
       "    .dataframe thead th {\n",
       "        text-align: right;\n",
       "    }\n",
       "</style>\n",
       "<table border=\"1\" class=\"dataframe\">\n",
       "  <thead>\n",
       "    <tr style=\"text-align: right;\">\n",
       "      <th></th>\n",
       "      <th>Open</th>\n",
       "      <th>High</th>\n",
       "      <th>Low</th>\n",
       "      <th>Close</th>\n",
       "      <th>Volume_(BTC)</th>\n",
       "      <th>Volume_(Currency)</th>\n",
       "      <th>Weighted_Price</th>\n",
       "    </tr>\n",
       "    <tr>\n",
       "      <th>Timestamp</th>\n",
       "      <th></th>\n",
       "      <th></th>\n",
       "      <th></th>\n",
       "      <th></th>\n",
       "      <th></th>\n",
       "      <th></th>\n",
       "      <th></th>\n",
       "    </tr>\n",
       "  </thead>\n",
       "  <tbody>\n",
       "    <tr>\n",
       "      <th>2021-03-20 00:00:00</th>\n",
       "      <td>58029.94</td>\n",
       "      <td>58056.38</td>\n",
       "      <td>57984.41</td>\n",
       "      <td>57984.41</td>\n",
       "      <td>0.586071</td>\n",
       "      <td>3.401285e+04</td>\n",
       "      <td>58035.397366</td>\n",
       "    </tr>\n",
       "    <tr>\n",
       "      <th>2021-03-20 00:01:00</th>\n",
       "      <td>57984.41</td>\n",
       "      <td>58018.74</td>\n",
       "      <td>57850.00</td>\n",
       "      <td>57898.50</td>\n",
       "      <td>11.624454</td>\n",
       "      <td>6.737002e+05</td>\n",
       "      <td>57955.426395</td>\n",
       "    </tr>\n",
       "    <tr>\n",
       "      <th>2021-03-20 00:02:00</th>\n",
       "      <td>57898.49</td>\n",
       "      <td>57923.95</td>\n",
       "      <td>57815.61</td>\n",
       "      <td>57902.49</td>\n",
       "      <td>7.170489</td>\n",
       "      <td>4.149455e+05</td>\n",
       "      <td>57868.515170</td>\n",
       "    </tr>\n",
       "    <tr>\n",
       "      <th>2021-03-20 00:03:00</th>\n",
       "      <td>57971.49</td>\n",
       "      <td>58183.82</td>\n",
       "      <td>57971.49</td>\n",
       "      <td>58093.58</td>\n",
       "      <td>42.251243</td>\n",
       "      <td>2.456207e+06</td>\n",
       "      <td>58133.373299</td>\n",
       "    </tr>\n",
       "    <tr>\n",
       "      <th>2021-03-20 00:04:00</th>\n",
       "      <td>58077.09</td>\n",
       "      <td>58137.00</td>\n",
       "      <td>58020.43</td>\n",
       "      <td>58020.43</td>\n",
       "      <td>6.994187</td>\n",
       "      <td>4.066059e+05</td>\n",
       "      <td>58134.832915</td>\n",
       "    </tr>\n",
       "  </tbody>\n",
       "</table>\n",
       "</div>"
      ],
      "text/plain": [
       "                         Open      High       Low     Close  Volume_(BTC)  \\\n",
       "Timestamp                                                                   \n",
       "2021-03-20 00:00:00  58029.94  58056.38  57984.41  57984.41      0.586071   \n",
       "2021-03-20 00:01:00  57984.41  58018.74  57850.00  57898.50     11.624454   \n",
       "2021-03-20 00:02:00  57898.49  57923.95  57815.61  57902.49      7.170489   \n",
       "2021-03-20 00:03:00  57971.49  58183.82  57971.49  58093.58     42.251243   \n",
       "2021-03-20 00:04:00  58077.09  58137.00  58020.43  58020.43      6.994187   \n",
       "\n",
       "                     Volume_(Currency)  Weighted_Price  \n",
       "Timestamp                                               \n",
       "2021-03-20 00:00:00       3.401285e+04    58035.397366  \n",
       "2021-03-20 00:01:00       6.737002e+05    57955.426395  \n",
       "2021-03-20 00:02:00       4.149455e+05    57868.515170  \n",
       "2021-03-20 00:03:00       2.456207e+06    58133.373299  \n",
       "2021-03-20 00:04:00       4.066059e+05    58134.832915  "
      ]
     },
     "execution_count": 23,
     "metadata": {},
     "output_type": "execute_result"
    }
   ],
   "source": [
    "df.head()"
   ]
  },
  {
   "cell_type": "code",
   "execution_count": 25,
   "id": "ef64dd96-96f9-4096-a388-b9c2323e6598",
   "metadata": {},
   "outputs": [
    {
     "data": {
      "image/png": "[encoded data removed]",
      "text/plain": [
       "<Figure size 800x600 with 2 Axes>"
      ]
     },
     "metadata": {},
     "output_type": "display_data"
    }
   ],
   "source": [
    "plt.figure(figsize=(8, 6))\n",
    "sns.heatmap(df.corr(), annot=True, fmt='.2f', linewidths=2)\n",
    "plt.show()"
   ]
  },
  {
   "cell_type": "code",
   "execution_count": 27,
   "id": "44b8eb70-a169-42cc-9aaa-89c3517c8751",
   "metadata": {},
   "outputs": [],
   "source": [
    "df = df[[\"Close\"]].copy()"
   ]
  },
  {
   "cell_type": "code",
   "execution_count": 29,
   "id": "4bf71195-69e8-4cae-9ee4-ab5f9845b9c8",
   "metadata": {},
   "outputs": [
    {
     "data": {
      "text/html": [
       "<div>\n",
       "<style scoped>\n",
       "    .dataframe tbody tr th:only-of-type {\n",
       "        vertical-align: middle;\n",
       "    }\n",
       "\n",
       "    .dataframe tbody tr th {\n",
       "        vertical-align: top;\n",
       "    }\n",
       "\n",
       "    .dataframe thead th {\n",
       "        text-align: right;\n",
       "    }\n",
       "</style>\n",
       "<table border=\"1\" class=\"dataframe\">\n",
       "  <thead>\n",
       "    <tr style=\"text-align: right;\">\n",
       "      <th></th>\n",
       "      <th>Close</th>\n",
       "    </tr>\n",
       "    <tr>\n",
       "      <th>Timestamp</th>\n",
       "      <th></th>\n",
       "    </tr>\n",
       "  </thead>\n",
       "  <tbody>\n",
       "    <tr>\n",
       "      <th>2021-03-20 00:00:00</th>\n",
       "      <td>57984.41</td>\n",
       "    </tr>\n",
       "    <tr>\n",
       "      <th>2021-03-20 00:01:00</th>\n",
       "      <td>57898.50</td>\n",
       "    </tr>\n",
       "    <tr>\n",
       "      <th>2021-03-20 00:02:00</th>\n",
       "      <td>57902.49</td>\n",
       "    </tr>\n",
       "    <tr>\n",
       "      <th>2021-03-20 00:03:00</th>\n",
       "      <td>58093.58</td>\n",
       "    </tr>\n",
       "    <tr>\n",
       "      <th>2021-03-20 00:04:00</th>\n",
       "      <td>58020.43</td>\n",
       "    </tr>\n",
       "    <tr>\n",
       "      <th>...</th>\n",
       "      <td>...</td>\n",
       "    </tr>\n",
       "    <tr>\n",
       "      <th>2021-03-30 23:56:00</th>\n",
       "      <td>58686.00</td>\n",
       "    </tr>\n",
       "    <tr>\n",
       "      <th>2021-03-30 23:57:00</th>\n",
       "      <td>58685.81</td>\n",
       "    </tr>\n",
       "    <tr>\n",
       "      <th>2021-03-30 23:58:00</th>\n",
       "      <td>58723.84</td>\n",
       "    </tr>\n",
       "    <tr>\n",
       "      <th>2021-03-30 23:59:00</th>\n",
       "      <td>58760.59</td>\n",
       "    </tr>\n",
       "    <tr>\n",
       "      <th>2021-03-31 00:00:00</th>\n",
       "      <td>58778.18</td>\n",
       "    </tr>\n",
       "  </tbody>\n",
       "</table>\n",
       "<p>15794 rows × 1 columns</p>\n",
       "</div>"
      ],
      "text/plain": [
       "                        Close\n",
       "Timestamp                    \n",
       "2021-03-20 00:00:00  57984.41\n",
       "2021-03-20 00:01:00  57898.50\n",
       "2021-03-20 00:02:00  57902.49\n",
       "2021-03-20 00:03:00  58093.58\n",
       "2021-03-20 00:04:00  58020.43\n",
       "...                       ...\n",
       "2021-03-30 23:56:00  58686.00\n",
       "2021-03-30 23:57:00  58685.81\n",
       "2021-03-30 23:58:00  58723.84\n",
       "2021-03-30 23:59:00  58760.59\n",
       "2021-03-31 00:00:00  58778.18\n",
       "\n",
       "[15794 rows x 1 columns]"
      ]
     },
     "execution_count": 29,
     "metadata": {},
     "output_type": "execute_result"
    }
   ],
   "source": [
    "df"
   ]
  },
  {
   "cell_type": "code",
   "execution_count": 31,
   "id": "f2d5ee6d-48b0-462b-8ebd-14c642865d18",
   "metadata": {},
   "outputs": [],
   "source": [
    "lag = 3"
   ]
  },
  {
   "cell_type": "code",
   "execution_count": 33,
   "id": "c5ed0bc0-bf84-4424-9244-a2409ecf8228",
   "metadata": {},
   "outputs": [],
   "source": [
    "periods = [3, 2, 1]"
   ]
  },
  {
   "cell_type": "code",
   "execution_count": 35,
   "id": "1a5a35c4-7a2c-4f75-bb79-6d05d78a2d7d",
   "metadata": {},
   "outputs": [
    {
     "data": {
      "text/html": [
       "<div>\n",
       "<style scoped>\n",
       "    .dataframe tbody tr th:only-of-type {\n",
       "        vertical-align: middle;\n",
       "    }\n",
       "\n",
       "    .dataframe tbody tr th {\n",
       "        vertical-align: top;\n",
       "    }\n",
       "\n",
       "    .dataframe thead th {\n",
       "        text-align: right;\n",
       "    }\n",
       "</style>\n",
       "<table border=\"1\" class=\"dataframe\">\n",
       "  <thead>\n",
       "    <tr style=\"text-align: right;\">\n",
       "      <th></th>\n",
       "      <th>Close_3</th>\n",
       "      <th>Close_2</th>\n",
       "      <th>Close_1</th>\n",
       "    </tr>\n",
       "    <tr>\n",
       "      <th>Timestamp</th>\n",
       "      <th></th>\n",
       "      <th></th>\n",
       "      <th></th>\n",
       "    </tr>\n",
       "  </thead>\n",
       "  <tbody>\n",
       "    <tr>\n",
       "      <th>2021-03-20 00:00:00</th>\n",
       "      <td>NaN</td>\n",
       "      <td>NaN</td>\n",
       "      <td>NaN</td>\n",
       "    </tr>\n",
       "    <tr>\n",
       "      <th>2021-03-20 00:01:00</th>\n",
       "      <td>NaN</td>\n",
       "      <td>NaN</td>\n",
       "      <td>57984.41</td>\n",
       "    </tr>\n",
       "    <tr>\n",
       "      <th>2021-03-20 00:02:00</th>\n",
       "      <td>NaN</td>\n",
       "      <td>57984.41</td>\n",
       "      <td>57898.50</td>\n",
       "    </tr>\n",
       "    <tr>\n",
       "      <th>2021-03-20 00:03:00</th>\n",
       "      <td>57984.41</td>\n",
       "      <td>57898.50</td>\n",
       "      <td>57902.49</td>\n",
       "    </tr>\n",
       "    <tr>\n",
       "      <th>2021-03-20 00:04:00</th>\n",
       "      <td>57898.50</td>\n",
       "      <td>57902.49</td>\n",
       "      <td>58093.58</td>\n",
       "    </tr>\n",
       "    <tr>\n",
       "      <th>...</th>\n",
       "      <td>...</td>\n",
       "      <td>...</td>\n",
       "      <td>...</td>\n",
       "    </tr>\n",
       "    <tr>\n",
       "      <th>2021-03-30 23:56:00</th>\n",
       "      <td>58698.50</td>\n",
       "      <td>58739.95</td>\n",
       "      <td>58714.31</td>\n",
       "    </tr>\n",
       "    <tr>\n",
       "      <th>2021-03-30 23:57:00</th>\n",
       "      <td>58739.95</td>\n",
       "      <td>58714.31</td>\n",
       "      <td>58686.00</td>\n",
       "    </tr>\n",
       "    <tr>\n",
       "      <th>2021-03-30 23:58:00</th>\n",
       "      <td>58714.31</td>\n",
       "      <td>58686.00</td>\n",
       "      <td>58685.81</td>\n",
       "    </tr>\n",
       "    <tr>\n",
       "      <th>2021-03-30 23:59:00</th>\n",
       "      <td>58686.00</td>\n",
       "      <td>58685.81</td>\n",
       "      <td>58723.84</td>\n",
       "    </tr>\n",
       "    <tr>\n",
       "      <th>2021-03-31 00:00:00</th>\n",
       "      <td>58685.81</td>\n",
       "      <td>58723.84</td>\n",
       "      <td>58760.59</td>\n",
       "    </tr>\n",
       "  </tbody>\n",
       "</table>\n",
       "<p>15794 rows × 3 columns</p>\n",
       "</div>"
      ],
      "text/plain": [
       "                      Close_3   Close_2   Close_1\n",
       "Timestamp                                        \n",
       "2021-03-20 00:00:00       NaN       NaN       NaN\n",
       "2021-03-20 00:01:00       NaN       NaN  57984.41\n",
       "2021-03-20 00:02:00       NaN  57984.41  57898.50\n",
       "2021-03-20 00:03:00  57984.41  57898.50  57902.49\n",
       "2021-03-20 00:04:00  57898.50  57902.49  58093.58\n",
       "...                       ...       ...       ...\n",
       "2021-03-30 23:56:00  58698.50  58739.95  58714.31\n",
       "2021-03-30 23:57:00  58739.95  58714.31  58686.00\n",
       "2021-03-30 23:58:00  58714.31  58686.00  58685.81\n",
       "2021-03-30 23:59:00  58686.00  58685.81  58723.84\n",
       "2021-03-31 00:00:00  58685.81  58723.84  58760.59\n",
       "\n",
       "[15794 rows x 3 columns]"
      ]
     },
     "execution_count": 35,
     "metadata": {},
     "output_type": "execute_result"
    }
   ],
   "source": [
    "df.shift(periods=periods)"
   ]
  },
  {
   "cell_type": "code",
   "execution_count": 37,
   "id": "42a0a2a4-6d54-42fd-ba9c-cd349d8c7339",
   "metadata": {},
   "outputs": [],
   "source": [
    "df = pd.concat([df, df.shift(periods=periods)], axis=1)"
   ]
  },
  {
   "cell_type": "code",
   "execution_count": 39,
   "id": "121a6f39-3e5b-4e26-a203-e12f1096ef24",
   "metadata": {},
   "outputs": [
    {
     "data": {
      "text/html": [
       "<div>\n",
       "<style scoped>\n",
       "    .dataframe tbody tr th:only-of-type {\n",
       "        vertical-align: middle;\n",
       "    }\n",
       "\n",
       "    .dataframe tbody tr th {\n",
       "        vertical-align: top;\n",
       "    }\n",
       "\n",
       "    .dataframe thead th {\n",
       "        text-align: right;\n",
       "    }\n",
       "</style>\n",
       "<table border=\"1\" class=\"dataframe\">\n",
       "  <thead>\n",
       "    <tr style=\"text-align: right;\">\n",
       "      <th></th>\n",
       "      <th>Close</th>\n",
       "      <th>Close_3</th>\n",
       "      <th>Close_2</th>\n",
       "      <th>Close_1</th>\n",
       "    </tr>\n",
       "    <tr>\n",
       "      <th>Timestamp</th>\n",
       "      <th></th>\n",
       "      <th></th>\n",
       "      <th></th>\n",
       "      <th></th>\n",
       "    </tr>\n",
       "  </thead>\n",
       "  <tbody>\n",
       "    <tr>\n",
       "      <th>2021-03-20 00:00:00</th>\n",
       "      <td>57984.41</td>\n",
       "      <td>NaN</td>\n",
       "      <td>NaN</td>\n",
       "      <td>NaN</td>\n",
       "    </tr>\n",
       "    <tr>\n",
       "      <th>2021-03-20 00:01:00</th>\n",
       "      <td>57898.50</td>\n",
       "      <td>NaN</td>\n",
       "      <td>NaN</td>\n",
       "      <td>57984.41</td>\n",
       "    </tr>\n",
       "    <tr>\n",
       "      <th>2021-03-20 00:02:00</th>\n",
       "      <td>57902.49</td>\n",
       "      <td>NaN</td>\n",
       "      <td>57984.41</td>\n",
       "      <td>57898.50</td>\n",
       "    </tr>\n",
       "    <tr>\n",
       "      <th>2021-03-20 00:03:00</th>\n",
       "      <td>58093.58</td>\n",
       "      <td>57984.41</td>\n",
       "      <td>57898.50</td>\n",
       "      <td>57902.49</td>\n",
       "    </tr>\n",
       "    <tr>\n",
       "      <th>2021-03-20 00:04:00</th>\n",
       "      <td>58020.43</td>\n",
       "      <td>57898.50</td>\n",
       "      <td>57902.49</td>\n",
       "      <td>58093.58</td>\n",
       "    </tr>\n",
       "  </tbody>\n",
       "</table>\n",
       "</div>"
      ],
      "text/plain": [
       "                        Close   Close_3   Close_2   Close_1\n",
       "Timestamp                                                  \n",
       "2021-03-20 00:00:00  57984.41       NaN       NaN       NaN\n",
       "2021-03-20 00:01:00  57898.50       NaN       NaN  57984.41\n",
       "2021-03-20 00:02:00  57902.49       NaN  57984.41  57898.50\n",
       "2021-03-20 00:03:00  58093.58  57984.41  57898.50  57902.49\n",
       "2021-03-20 00:04:00  58020.43  57898.50  57902.49  58093.58"
      ]
     },
     "execution_count": 39,
     "metadata": {},
     "output_type": "execute_result"
    }
   ],
   "source": [
    "df.head()"
   ]
  },
  {
   "cell_type": "code",
   "execution_count": 41,
   "id": "2342fcb4-4f13-41b6-a110-c518f90fcaf3",
   "metadata": {},
   "outputs": [],
   "source": [
    "df.dropna(axis=0, inplace=True)"
   ]
  },
  {
   "cell_type": "code",
   "execution_count": 43,
   "id": "ae9bf529-0f3a-4525-86e4-67b33fcb531a",
   "metadata": {},
   "outputs": [
    {
     "data": {
      "text/html": [
       "<div>\n",
       "<style scoped>\n",
       "    .dataframe tbody tr th:only-of-type {\n",
       "        vertical-align: middle;\n",
       "    }\n",
       "\n",
       "    .dataframe tbody tr th {\n",
       "        vertical-align: top;\n",
       "    }\n",
       "\n",
       "    .dataframe thead th {\n",
       "        text-align: right;\n",
       "    }\n",
       "</style>\n",
       "<table border=\"1\" class=\"dataframe\">\n",
       "  <thead>\n",
       "    <tr style=\"text-align: right;\">\n",
       "      <th></th>\n",
       "      <th>Close</th>\n",
       "      <th>Close_3</th>\n",
       "      <th>Close_2</th>\n",
       "      <th>Close_1</th>\n",
       "    </tr>\n",
       "    <tr>\n",
       "      <th>Timestamp</th>\n",
       "      <th></th>\n",
       "      <th></th>\n",
       "      <th></th>\n",
       "      <th></th>\n",
       "    </tr>\n",
       "  </thead>\n",
       "  <tbody>\n",
       "    <tr>\n",
       "      <th>2021-03-20 00:03:00</th>\n",
       "      <td>58093.58</td>\n",
       "      <td>57984.41</td>\n",
       "      <td>57898.50</td>\n",
       "      <td>57902.49</td>\n",
       "    </tr>\n",
       "    <tr>\n",
       "      <th>2021-03-20 00:04:00</th>\n",
       "      <td>58020.43</td>\n",
       "      <td>57898.50</td>\n",
       "      <td>57902.49</td>\n",
       "      <td>58093.58</td>\n",
       "    </tr>\n",
       "    <tr>\n",
       "      <th>2021-03-20 00:05:00</th>\n",
       "      <td>57942.98</td>\n",
       "      <td>57902.49</td>\n",
       "      <td>58093.58</td>\n",
       "      <td>58020.43</td>\n",
       "    </tr>\n",
       "    <tr>\n",
       "      <th>2021-03-20 00:06:00</th>\n",
       "      <td>57970.36</td>\n",
       "      <td>58093.58</td>\n",
       "      <td>58020.43</td>\n",
       "      <td>57942.98</td>\n",
       "    </tr>\n",
       "    <tr>\n",
       "      <th>2021-03-20 00:07:00</th>\n",
       "      <td>57944.74</td>\n",
       "      <td>58020.43</td>\n",
       "      <td>57942.98</td>\n",
       "      <td>57970.36</td>\n",
       "    </tr>\n",
       "  </tbody>\n",
       "</table>\n",
       "</div>"
      ],
      "text/plain": [
       "                        Close   Close_3   Close_2   Close_1\n",
       "Timestamp                                                  \n",
       "2021-03-20 00:03:00  58093.58  57984.41  57898.50  57902.49\n",
       "2021-03-20 00:04:00  58020.43  57898.50  57902.49  58093.58\n",
       "2021-03-20 00:05:00  57942.98  57902.49  58093.58  58020.43\n",
       "2021-03-20 00:06:00  57970.36  58093.58  58020.43  57942.98\n",
       "2021-03-20 00:07:00  57944.74  58020.43  57942.98  57970.36"
      ]
     },
     "execution_count": 43,
     "metadata": {},
     "output_type": "execute_result"
    }
   ],
   "source": [
    "df.head()"
   ]
  },
  {
   "cell_type": "code",
   "execution_count": 45,
   "id": "4da80984-9704-4c51-9be6-9ccffe66b0ff",
   "metadata": {},
   "outputs": [],
   "source": [
    "X, y = df.drop(columns=[\"Close\"]), df[\"Close\"]"
   ]
  },
  {
   "cell_type": "code",
   "execution_count": 47,
   "id": "3b00f18b-0d66-4f8f-8dc4-97c83394f7d8",
   "metadata": {},
   "outputs": [
    {
     "data": {
      "text/html": [
       "<div>\n",
       "<style scoped>\n",
       "    .dataframe tbody tr th:only-of-type {\n",
       "        vertical-align: middle;\n",
       "    }\n",
       "\n",
       "    .dataframe tbody tr th {\n",
       "        vertical-align: top;\n",
       "    }\n",
       "\n",
       "    .dataframe thead th {\n",
       "        text-align: right;\n",
       "    }\n",
       "</style>\n",
       "<table border=\"1\" class=\"dataframe\">\n",
       "  <thead>\n",
       "    <tr style=\"text-align: right;\">\n",
       "      <th></th>\n",
       "      <th>Close_3</th>\n",
       "      <th>Close_2</th>\n",
       "      <th>Close_1</th>\n",
       "    </tr>\n",
       "    <tr>\n",
       "      <th>Timestamp</th>\n",
       "      <th></th>\n",
       "      <th></th>\n",
       "      <th></th>\n",
       "    </tr>\n",
       "  </thead>\n",
       "  <tbody>\n",
       "    <tr>\n",
       "      <th>2021-03-20 00:03:00</th>\n",
       "      <td>57984.41</td>\n",
       "      <td>57898.50</td>\n",
       "      <td>57902.49</td>\n",
       "    </tr>\n",
       "    <tr>\n",
       "      <th>2021-03-20 00:04:00</th>\n",
       "      <td>57898.50</td>\n",
       "      <td>57902.49</td>\n",
       "      <td>58093.58</td>\n",
       "    </tr>\n",
       "    <tr>\n",
       "      <th>2021-03-20 00:05:00</th>\n",
       "      <td>57902.49</td>\n",
       "      <td>58093.58</td>\n",
       "      <td>58020.43</td>\n",
       "    </tr>\n",
       "    <tr>\n",
       "      <th>2021-03-20 00:06:00</th>\n",
       "      <td>58093.58</td>\n",
       "      <td>58020.43</td>\n",
       "      <td>57942.98</td>\n",
       "    </tr>\n",
       "    <tr>\n",
       "      <th>2021-03-20 00:07:00</th>\n",
       "      <td>58020.43</td>\n",
       "      <td>57942.98</td>\n",
       "      <td>57970.36</td>\n",
       "    </tr>\n",
       "    <tr>\n",
       "      <th>...</th>\n",
       "      <td>...</td>\n",
       "      <td>...</td>\n",
       "      <td>...</td>\n",
       "    </tr>\n",
       "    <tr>\n",
       "      <th>2021-03-30 23:56:00</th>\n",
       "      <td>58698.50</td>\n",
       "      <td>58739.95</td>\n",
       "      <td>58714.31</td>\n",
       "    </tr>\n",
       "    <tr>\n",
       "      <th>2021-03-30 23:57:00</th>\n",
       "      <td>58739.95</td>\n",
       "      <td>58714.31</td>\n",
       "      <td>58686.00</td>\n",
       "    </tr>\n",
       "    <tr>\n",
       "      <th>2021-03-30 23:58:00</th>\n",
       "      <td>58714.31</td>\n",
       "      <td>58686.00</td>\n",
       "      <td>58685.81</td>\n",
       "    </tr>\n",
       "    <tr>\n",
       "      <th>2021-03-30 23:59:00</th>\n",
       "      <td>58686.00</td>\n",
       "      <td>58685.81</td>\n",
       "      <td>58723.84</td>\n",
       "    </tr>\n",
       "    <tr>\n",
       "      <th>2021-03-31 00:00:00</th>\n",
       "      <td>58685.81</td>\n",
       "      <td>58723.84</td>\n",
       "      <td>58760.59</td>\n",
       "    </tr>\n",
       "  </tbody>\n",
       "</table>\n",
       "<p>15791 rows × 3 columns</p>\n",
       "</div>"
      ],
      "text/plain": [
       "                      Close_3   Close_2   Close_1\n",
       "Timestamp                                        \n",
       "2021-03-20 00:03:00  57984.41  57898.50  57902.49\n",
       "2021-03-20 00:04:00  57898.50  57902.49  58093.58\n",
       "2021-03-20 00:05:00  57902.49  58093.58  58020.43\n",
       "2021-03-20 00:06:00  58093.58  58020.43  57942.98\n",
       "2021-03-20 00:07:00  58020.43  57942.98  57970.36\n",
       "...                       ...       ...       ...\n",
       "2021-03-30 23:56:00  58698.50  58739.95  58714.31\n",
       "2021-03-30 23:57:00  58739.95  58714.31  58686.00\n",
       "2021-03-30 23:58:00  58714.31  58686.00  58685.81\n",
       "2021-03-30 23:59:00  58686.00  58685.81  58723.84\n",
       "2021-03-31 00:00:00  58685.81  58723.84  58760.59\n",
       "\n",
       "[15791 rows x 3 columns]"
      ]
     },
     "execution_count": 47,
     "metadata": {},
     "output_type": "execute_result"
    }
   ],
   "source": [
    "X"
   ]
  },
  {
   "cell_type": "code",
   "execution_count": 49,
   "id": "b2a60866-62ae-4028-8f84-116194c83fb3",
   "metadata": {},
   "outputs": [
    {
     "data": {
      "text/plain": [
       "Timestamp\n",
       "2021-03-20 00:03:00    58093.58\n",
       "2021-03-20 00:04:00    58020.43\n",
       "2021-03-20 00:05:00    57942.98\n",
       "2021-03-20 00:06:00    57970.36\n",
       "2021-03-20 00:07:00    57944.74\n",
       "                         ...   \n",
       "2021-03-30 23:56:00    58686.00\n",
       "2021-03-30 23:57:00    58685.81\n",
       "2021-03-30 23:58:00    58723.84\n",
       "2021-03-30 23:59:00    58760.59\n",
       "2021-03-31 00:00:00    58778.18\n",
       "Name: Close, Length: 15791, dtype: float64"
      ]
     },
     "execution_count": 49,
     "metadata": {},
     "output_type": "execute_result"
    }
   ],
   "source": [
    "y"
   ]
  },
  {
   "cell_type": "code",
   "execution_count": 51,
   "id": "ce869342-7389-4d9b-a4e4-55ba9d1dac48",
   "metadata": {},
   "outputs": [],
   "source": [
    "train_X, test_X, train_y, test_y = train_test_split(X, y, test_size=0.2, shuffle=False)"
   ]
  },
  {
   "cell_type": "code",
   "execution_count": 53,
   "id": "05dee16a-7359-4fed-9277-d1c3480ddf3c",
   "metadata": {},
   "outputs": [],
   "source": [
    "scaler = MinMaxScaler()\n",
    "train_X = scaler.fit_transform(train_X)\n",
    "test_X = scaler.transform(test_X)"
   ]
  },
  {
   "cell_type": "code",
   "execution_count": 55,
   "id": "7afcdb33-8f74-4d86-ac90-442764291d80",
   "metadata": {},
   "outputs": [],
   "source": [
    "scaler = MinMaxScaler()\n",
    "train_y = scaler.fit_transform(train_y.to_numpy().reshape(-1, 1))"
   ]
  },
  {
   "cell_type": "code",
   "execution_count": 57,
   "id": "eb550e10-9ae6-4f11-b566-277af51a96da",
   "metadata": {},
   "outputs": [
    {
     "data": {
      "text/plain": [
       "12632"
      ]
     },
     "execution_count": 57,
     "metadata": {},
     "output_type": "execute_result"
    }
   ],
   "source": [
    "train_X.shape[0]"
   ]
  },
  {
   "cell_type": "code",
   "execution_count": 59,
   "id": "dad46ba4-78e3-427a-8391-00b00cbe4030",
   "metadata": {},
   "outputs": [
    {
     "data": {
      "text/plain": [
       "3"
      ]
     },
     "execution_count": 59,
     "metadata": {},
     "output_type": "execute_result"
    }
   ],
   "source": [
    "lag"
   ]
  },
  {
   "cell_type": "code",
   "execution_count": 61,
   "id": "e1d9ee0e-dc37-4eab-b7f7-20b214b188a4",
   "metadata": {},
   "outputs": [
    {
     "data": {
      "text/plain": [
       "1"
      ]
     },
     "execution_count": 61,
     "metadata": {},
     "output_type": "execute_result"
    }
   ],
   "source": [
    "train_X.shape[1] // 3"
   ]
  },
  {
   "cell_type": "code",
   "execution_count": 63,
   "id": "6dfedc20-21bc-430e-acc2-18caffd36741",
   "metadata": {},
   "outputs": [
    {
     "data": {
      "text/plain": [
       "(12632, 3, 1)"
      ]
     },
     "execution_count": 63,
     "metadata": {},
     "output_type": "execute_result"
    }
   ],
   "source": [
    "(train_X.shape[0], lag, (train_X.shape[1] // lag)) "
   ]
  },
  {
   "cell_type": "code",
   "execution_count": 65,
   "id": "ebc99c0d-ef73-48b8-9eb4-f30b40e8a117",
   "metadata": {},
   "outputs": [],
   "source": [
    "train_X = train_X.reshape(train_X.shape[0], lag, (train_X.shape[1] // lag))\n",
    "test_X = test_X.reshape(test_X.shape[0], lag, (test_X.shape[1] // lag))"
   ]
  },
  {
   "cell_type": "code",
   "execution_count": 67,
   "id": "2e81c403-1c97-403b-aa86-a297444ad8f8",
   "metadata": {},
   "outputs": [
    {
     "data": {
      "text/plain": [
       "(3, 1)"
      ]
     },
     "execution_count": 67,
     "metadata": {},
     "output_type": "execute_result"
    }
   ],
   "source": [
    "(train_X.shape[1], train_X.shape[2])"
   ]
  },
  {
   "cell_type": "code",
   "execution_count": 99,
   "id": "35d7dc6f-f5d4-4890-9c83-06c4a5b3d5c3",
   "metadata": {},
   "outputs": [],
   "source": [
    "model = Sequential([\n",
    "    Input((train_X.shape[1], train_X.shape[2],)),\n",
    "    LSTM(8, activation=\"relu\", return_sequences=True),\n",
    "    LSTM(4, activation=\"relu\"),\n",
    "    Dense(1, activation=\"linear\")\n",
    "])"
   ]
  },
  {
   "cell_type": "code",
   "execution_count": 101,
   "id": "89bf3a32-4f40-49d4-b1f3-a156c5a8cb91",
   "metadata": {},
   "outputs": [
    {
     "name": "stdout",
     "output_type": "stream",
     "text": [
      "Model: \"sequential_1\"\n",
      "_________________________________________________________________\n",
      " Layer (type)                Output Shape              Param #   \n",
      "=================================================================\n",
      " lstm_2 (LSTM)               (None, 3, 8)              320       \n",
      "                                                                 \n",
      " lstm_3 (LSTM)               (None, 4)                 208       \n",
      "                                                                 \n",
      " dense_1 (Dense)             (None, 1)                 5         \n",
      "                                                                 \n",
      "=================================================================\n",
      "Total params: 533\n",
      "Trainable params: 533\n",
      "Non-trainable params: 0\n",
      "_________________________________________________________________\n"
     ]
    }
   ],
   "source": [
    "model.summary()"
   ]
  },
  {
   "cell_type": "code",
   "execution_count": 103,
   "id": "30e0672d-c8bb-49d1-8fc0-6a20fcde4330",
   "metadata": {},
   "outputs": [],
   "source": [
    "model.compile(\n",
    "    loss=\"mean_squared_error\",\n",
    "    optimizer=\"adam\",\n",
    "    metrics=[\"mean_squared_error\"],\n",
    ")"
   ]
  },
  {
   "cell_type": "code",
   "execution_count": 105,
   "id": "ce346c24-72d8-42cb-b5ab-5d5b98714622",
   "metadata": {},
   "outputs": [
    {
     "name": "stdout",
     "output_type": "stream",
     "text": [
      "Epoch 1/12\n",
      "632/632 [==============================] - 4s 3ms/step - loss: 0.0734 - mean_squared_error: 0.0734 - val_loss: 0.0165 - val_mean_squared_error: 0.0165\n",
      "Epoch 2/12\n",
      "632/632 [==============================] - 1s 2ms/step - loss: 0.0024 - mean_squared_error: 0.0024 - val_loss: 0.0045 - val_mean_squared_error: 0.0045\n",
      "Epoch 3/12\n",
      "632/632 [==============================] - 2s 2ms/step - loss: 0.0012 - mean_squared_error: 0.0012 - val_loss: 0.0013 - val_mean_squared_error: 0.0013\n",
      "Epoch 4/12\n",
      "632/632 [==============================] - 1s 2ms/step - loss: 7.6918e-04 - mean_squared_error: 7.6918e-04 - val_loss: 4.7678e-04 - val_mean_squared_error: 4.7678e-04\n",
      "Epoch 5/12\n",
      "632/632 [==============================] - 1s 2ms/step - loss: 6.0643e-04 - mean_squared_error: 6.0643e-04 - val_loss: 1.4048e-04 - val_mean_squared_error: 1.4048e-04\n",
      "Epoch 6/12\n",
      "632/632 [==============================] - 1s 2ms/step - loss: 5.1613e-04 - mean_squared_error: 5.1613e-04 - val_loss: 8.3527e-05 - val_mean_squared_error: 8.3527e-05\n",
      "Epoch 7/12\n",
      "632/632 [==============================] - 1s 2ms/step - loss: 4.6965e-04 - mean_squared_error: 4.6965e-04 - val_loss: 7.0551e-05 - val_mean_squared_error: 7.0551e-05\n",
      "Epoch 8/12\n",
      "632/632 [==============================] - 1s 2ms/step - loss: 4.4201e-04 - mean_squared_error: 4.4201e-04 - val_loss: 5.9809e-05 - val_mean_squared_error: 5.9809e-05\n",
      "Epoch 9/12\n",
      "632/632 [==============================] - 1s 2ms/step - loss: 4.1905e-04 - mean_squared_error: 4.1905e-04 - val_loss: 5.9125e-05 - val_mean_squared_error: 5.9125e-05\n",
      "Epoch 10/12\n",
      "632/632 [==============================] - 1s 2ms/step - loss: 4.0217e-04 - mean_squared_error: 4.0217e-04 - val_loss: 6.2832e-05 - val_mean_squared_error: 6.2832e-05\n",
      "Epoch 11/12\n",
      "632/632 [==============================] - 1s 2ms/step - loss: 3.8853e-04 - mean_squared_error: 3.8853e-04 - val_loss: 6.6782e-05 - val_mean_squared_error: 6.6782e-05\n",
      "Epoch 12/12\n",
      "632/632 [==============================] - 1s 2ms/step - loss: 3.7580e-04 - mean_squared_error: 3.7580e-04 - val_loss: 6.9594e-05 - val_mean_squared_error: 6.9594e-05\n"
     ]
    }
   ],
   "source": [
    "history = model.fit(train_X, train_y, validation_split=0.2, epochs=12, batch_size=16, shuffle=False)"
   ]
  },
  {
   "cell_type": "code",
   "execution_count": 107,
   "id": "eb515aa7-36c7-4755-88e4-2cdbceafc6c1",
   "metadata": {},
   "outputs": [
    {
     "data": {
      "text/plain": [
       "<Axes: >"
      ]
     },
     "execution_count": 107,
     "metadata": {},
     "output_type": "execute_result"
    },
    {
     "data": {
      "image/png": "[encoded data removed]",
      "text/plain": [
       "<Figure size 640x480 with 1 Axes>"
      ]
     },
     "metadata": {},
     "output_type": "display_data"
    }
   ],
   "source": [
    "sns.lineplot(history.history[\"loss\"], label=\"loss\")\n",
    "sns.lineplot(history.history[\"val_loss\"], label=\"val_loss\")"
   ]
  },
  {
   "cell_type": "code",
   "execution_count": 109,
   "id": "785085d4-be2b-478f-a5ac-83c0d64299ae",
   "metadata": {},
   "outputs": [
    {
     "name": "stdout",
     "output_type": "stream",
     "text": [
      "99/99 [==============================] - 0s 939us/step\n"
     ]
    }
   ],
   "source": [
    "pred_y = model.predict(test_X)"
   ]
  },
  {
   "cell_type": "code",
   "execution_count": 111,
   "id": "fa313850-e56f-4e9f-b3b2-2d18059c0c1c",
   "metadata": {},
   "outputs": [],
   "source": [
    "pred_y = scaler.inverse_transform(pred_y)"
   ]
  },
  {
   "cell_type": "code",
   "execution_count": 113,
   "id": "61f0b38e-7cf3-4ebc-915d-2d5ad7346a5d",
   "metadata": {},
   "outputs": [
    {
     "data": {
      "text/plain": [
       "0.7889931676736625"
      ]
     },
     "execution_count": 113,
     "metadata": {},
     "output_type": "execute_result"
    }
   ],
   "source": [
    "r2_score(test_y, pred_y)"
   ]
  },
  {
   "cell_type": "code",
   "execution_count": null,
   "id": "f7cf6b6d-dea2-492f-abb1-951951fe20ac",
   "metadata": {},
   "outputs": [],
   "source": []
  }
 ],
 "metadata": {
  "kernelspec": {
   "display_name": "Python [conda env:base] *",
   "language": "python",
   "name": "conda-base-py"
  },
  "language_info": {
   "codemirror_mode": {
    "name": "ipython",
    "version": 3
   },
   "file_extension": ".py",
   "mimetype": "text/x-python",
   "name": "python",
   "nbconvert_exporter": "python",
   "pygments_lexer": "ipython3",
   "version": "3.10.9"
  }
 },
 "nbformat": 4,
 "nbformat_minor": 5
}
